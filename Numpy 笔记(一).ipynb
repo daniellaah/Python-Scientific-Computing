{
 "cells": [
  {
   "cell_type": "markdown",
   "metadata": {
    "nbpresent": {
     "id": "77a89ef4-2bac-4d44-afd2-cc8c846b5328"
    }
   },
   "source": [
    "# Numpy 笔记(一)"
   ]
  },
  {
   "cell_type": "markdown",
   "metadata": {
    "nbpresent": {
     "id": "dd45a54f-6f28-402b-a61f-1f86bf6b12b7"
    }
   },
   "source": [
    "## 1.1 导入"
   ]
  },
  {
   "cell_type": "markdown",
   "metadata": {
    "nbpresent": {
     "id": "85529621-2655-4ce9-b792-0bcefc064875"
    }
   },
   "source": [
    "使用numpy需要导入numpy模块, 如下："
   ]
  },
  {
   "cell_type": "code",
   "execution_count": 1,
   "metadata": {
    "collapsed": true,
    "nbpresent": {
     "id": "6e671ab3-8588-47b0-bec9-4071d15a4b7f"
    }
   },
   "outputs": [],
   "source": [
    "import numpy as np"
   ]
  },
  {
   "cell_type": "markdown",
   "metadata": {
    "nbpresent": {
     "id": "5c407889-dd42-4e31-85e2-d257fd9b589a"
    }
   },
   "source": [
    "## 1.2 创建numpy数组"
   ]
  },
  {
   "cell_type": "markdown",
   "metadata": {
    "nbpresent": {
     "id": "19cfecf2-6622-42ca-bf63-0caa83e81ee9"
    }
   },
   "source": [
    "有很多种创建numpy数组的方法，例如：\n",
    "- 使用tuple\n",
    "- 使用list\n",
    "- 使用numpy提供的函数\n",
    "- 从文件中读取数据"
   ]
  },
  {
   "cell_type": "markdown",
   "metadata": {
    "nbpresent": {
     "id": "5262859c-40df-4f6f-9d42-bf3654b0c2f5"
    }
   },
   "source": [
    "### 1.2.1 使用tuple创建numpy数组\n",
    "我们可以使用numpy的**array**函数和python中的**tuple**来创建numpy数组."
   ]
  },
  {
   "cell_type": "code",
   "execution_count": 2,
   "metadata": {
    "collapsed": false,
    "nbpresent": {
     "id": "8666fc4e-516e-412c-9d9a-aa2e58b8967b"
    }
   },
   "outputs": [
    {
     "data": {
      "text/plain": [
       "array([2, 3])"
      ]
     },
     "execution_count": 2,
     "metadata": {},
     "output_type": "execute_result"
    }
   ],
   "source": [
    "# 构造一个一维的numpy数组, 传入的参数t是一个tuple\n",
    "t = (2,3)\n",
    "vec = np.array(t)\n",
    "vec"
   ]
  },
  {
   "cell_type": "code",
   "execution_count": 3,
   "metadata": {
    "collapsed": false,
    "nbpresent": {
     "id": "a583e8e4-b7c5-4b83-b27c-213336d7db8c"
    }
   },
   "outputs": [
    {
     "data": {
      "text/plain": [
       "array([[1, 2, 3],\n",
       "       [4, 5, 6]])"
      ]
     },
     "execution_count": 3,
     "metadata": {},
     "output_type": "execute_result"
    }
   ],
   "source": [
    "# 构造一个二维的numpy数组, 传入的参数t是一个嵌套的tuple\n",
    "t = ((1,2,3),(4,5,6))\n",
    "mtrx = np.array(t)\n",
    "mtrx"
   ]
  },
  {
   "cell_type": "markdown",
   "metadata": {
    "nbpresent": {
     "id": "1177d780-4bcd-4d6f-a348-c1da402f131e"
    }
   },
   "source": [
    "我们可以使用python中的**type**函数来查看一个变量的类型:"
   ]
  },
  {
   "cell_type": "code",
   "execution_count": 4,
   "metadata": {
    "collapsed": false,
    "nbpresent": {
     "id": "38765111-7b33-4595-b577-2f2edaabf7c6"
    }
   },
   "outputs": [
    {
     "name": "stdout",
     "output_type": "stream",
     "text": [
      "<class 'numpy.ndarray'>\n",
      "<class 'numpy.ndarray'>\n"
     ]
    }
   ],
   "source": [
    "print(type(vec))\n",
    "print(type(mtrx))"
   ]
  },
  {
   "cell_type": "markdown",
   "metadata": {},
   "source": [
    "我们可以看到, 通过上面创建的两个变量都是numpy.ndarray类型. 不同的是它们的维度, 一个是一维的, 一个是二维的. 我们可以使用numpy数组的**ndim**属性来查看维度."
   ]
  },
  {
   "cell_type": "code",
   "execution_count": 5,
   "metadata": {
    "collapsed": false
   },
   "outputs": [
    {
     "name": "stdout",
     "output_type": "stream",
     "text": [
      "1\n",
      "2\n"
     ]
    }
   ],
   "source": [
    "print(vec.ndim)\n",
    "print(mtrx.ndim)"
   ]
  },
  {
   "cell_type": "code",
   "execution_count": 6,
   "metadata": {
    "collapsed": false
   },
   "outputs": [
    {
     "data": {
      "text/plain": [
       "array([[1, 2, 3],\n",
       "       [4, 5, 6]])"
      ]
     },
     "execution_count": 6,
     "metadata": {},
     "output_type": "execute_result"
    }
   ],
   "source": [
    "mtrx"
   ]
  },
  {
   "cell_type": "markdown",
   "metadata": {
    "nbpresent": {
     "id": "a7ac9632-e6cf-4f49-ae21-d4a695240362"
    }
   },
   "source": [
    "这是刚才我们创建的一个二维的numpy数组, 可以把它看成一个$2\\times3$的矩阵. 假设在我们创建的时候, 不小心写成了:"
   ]
  },
  {
   "cell_type": "code",
   "execution_count": 7,
   "metadata": {
    "collapsed": false,
    "nbpresent": {
     "id": "4f02f033-a31d-49a5-b2dd-be894ebbf38f"
    }
   },
   "outputs": [
    {
     "data": {
      "text/plain": [
       "array([(1, 2, 3), (4, 5)], dtype=object)"
      ]
     },
     "execution_count": 7,
     "metadata": {},
     "output_type": "execute_result"
    }
   ],
   "source": [
    "# 第二个少写了一个6\n",
    "t = ((1,2,3), (4,5))\n",
    "vec = np.array(t)\n",
    "vec"
   ]
  },
  {
   "cell_type": "markdown",
   "metadata": {
    "nbpresent": {
     "id": "347df580-f9e1-4504-8bf4-d1d0a9ac1f88"
    }
   },
   "source": [
    "我们本意是想创建一个$2\\times3$的矩阵, 但由于粗心输错了. 这时候numpy并不会报错, 它会将(1,2,3)看成一个元素, (4,5)看成一个元素, 创建一个包含两个元素的向量. 这两个元素都是tuple类型, 第一个元素是(1,2,3), 第二个元素是(4,5). 上面输出结果中的dtype就代表了组成该numpy数组的元素的类型. 在这个例子中, 组成该向量的元素为一个python中的tuple, 在numpy中它是object类型. 我们也可以使用python中的type方法看一下元素在python中是什么类型."
   ]
  },
  {
   "cell_type": "code",
   "execution_count": 8,
   "metadata": {
    "collapsed": false,
    "nbpresent": {
     "id": "5c8a02af-b534-4f5b-acae-0f555f1bcf6e"
    }
   },
   "outputs": [
    {
     "name": "stdout",
     "output_type": "stream",
     "text": [
      "<class 'tuple'>\n",
      "<class 'tuple'>\n"
     ]
    }
   ],
   "source": [
    "print(type(vec[0]))\n",
    "print(type(vec[1]))"
   ]
  },
  {
   "cell_type": "markdown",
   "metadata": {
    "nbpresent": {
     "id": "0b33f4e7-50c9-4c81-8791-c2ef58facab2"
    }
   },
   "source": [
    "从上面的例子我们也发现了, numpy数组中的所有元素必须是同一数据类型dtype. "
   ]
  },
  {
   "cell_type": "code",
   "execution_count": 9,
   "metadata": {
    "collapsed": false,
    "nbpresent": {
     "id": "fd56bbbe-355d-4e8c-9b12-744fac2c99bc"
    }
   },
   "outputs": [
    {
     "data": {
      "text/plain": [
       "array([[1, 2, 3],\n",
       "       [4, 5, 6]])"
      ]
     },
     "execution_count": 9,
     "metadata": {},
     "output_type": "execute_result"
    }
   ],
   "source": [
    "mtrx"
   ]
  },
  {
   "cell_type": "markdown",
   "metadata": {},
   "source": [
    "我们来看看这个mtrx中元素的类型:"
   ]
  },
  {
   "cell_type": "code",
   "execution_count": 10,
   "metadata": {
    "collapsed": false,
    "nbpresent": {
     "id": "d7c58302-201a-4200-9bb9-8d5a9e060fe4"
    }
   },
   "outputs": [
    {
     "data": {
      "text/plain": [
       "dtype('int64')"
      ]
     },
     "execution_count": 10,
     "metadata": {},
     "output_type": "execute_result"
    }
   ],
   "source": [
    "# 64位整型\n",
    "mtrx.dtype"
   ]
  },
  {
   "cell_type": "markdown",
   "metadata": {
    "nbpresent": {
     "id": "a30d6dbe-b957-49e9-bbda-c9a497d336ec"
    }
   },
   "source": [
    "若在构造矩阵时, 输入的类型不一致, 则numpy可对其进行数据类型转换, 例如:"
   ]
  },
  {
   "cell_type": "code",
   "execution_count": 11,
   "metadata": {
    "collapsed": false,
    "nbpresent": {
     "id": "ee0a2918-9e5e-4944-9150-60d068dc3e5e"
    }
   },
   "outputs": [
    {
     "name": "stdout",
     "output_type": "stream",
     "text": [
      "[['1' '2' 'a']\n",
      " ['4' '5' '6']]\n"
     ]
    }
   ],
   "source": [
    "# 同时包含了字符和数字\n",
    "t = ((1,2,\"a\"),(4,5,6))\n",
    "mtrx = np.array(t)\n",
    "print(mtrx)"
   ]
  },
  {
   "cell_type": "markdown",
   "metadata": {
    "nbpresent": {
     "id": "9ebb5068-7347-42b8-b7ce-409302c03ca8"
    }
   },
   "source": [
    "我们可以在构造矩阵时传入dtype参数, 用来指定该矩阵元素的类型:"
   ]
  },
  {
   "cell_type": "code",
   "execution_count": 12,
   "metadata": {
    "collapsed": false,
    "nbpresent": {
     "id": "03c9adeb-8a25-4592-beac-2a971272169c"
    }
   },
   "outputs": [
    {
     "data": {
      "text/plain": [
       "array([[ 1.,  2.,  3.],\n",
       "       [ 4.,  5.,  6.]])"
      ]
     },
     "execution_count": 12,
     "metadata": {},
     "output_type": "execute_result"
    }
   ],
   "source": [
    "mtrx = np.array([[1,2,3], [4,5,6]], dtype=float)\n",
    "mtrx"
   ]
  },
  {
   "cell_type": "markdown",
   "metadata": {
    "nbpresent": {
     "id": "2f5c2922-6435-444d-a000-8527c1d2ccc2"
    }
   },
   "source": [
    "一些常见的数据类型都可以用在dtype: int, float, complex, bool, object等等。\n",
    "我们也可以指定数据类型的位数大小：int16, int32, int16, float128, complex128. 例如:"
   ]
  },
  {
   "cell_type": "code",
   "execution_count": 13,
   "metadata": {
    "collapsed": false
   },
   "outputs": [
    {
     "data": {
      "text/plain": [
       "array([[1, 2, 3],\n",
       "       [4, 5, 6]], dtype=int16)"
      ]
     },
     "execution_count": 13,
     "metadata": {},
     "output_type": "execute_result"
    }
   ],
   "source": [
    "mtrx = np.array([[1,2,3], [4,5,6]], dtype=\"int16\")\n",
    "mtrx"
   ]
  },
  {
   "cell_type": "markdown",
   "metadata": {
    "nbpresent": {
     "id": "7ffbdd16-b4af-467b-abea-d97dd70975ea"
    }
   },
   "source": [
    "如果我们将numpy数组某一元素赋值一个不一致类型的值, 则会报ValueError错误. 例如, 我们将上面矩阵的第一行第一列的元素赋值为\"a\":"
   ]
  },
  {
   "cell_type": "code",
   "execution_count": 14,
   "metadata": {
    "collapsed": false,
    "nbpresent": {
     "id": "a1489d77-bd2b-410d-b304-bda1f7f6474a"
    }
   },
   "outputs": [
    {
     "ename": "ValueError",
     "evalue": "invalid literal for int() with base 10: 'a'",
     "output_type": "error",
     "traceback": [
      "\u001b[0;31m---------------------------------------------------------------------------\u001b[0m",
      "\u001b[0;31mValueError\u001b[0m                                Traceback (most recent call last)",
      "\u001b[0;32m<ipython-input-14-86ffe1d972a3>\u001b[0m in \u001b[0;36m<module>\u001b[0;34m()\u001b[0m\n\u001b[0;32m----> 1\u001b[0;31m \u001b[0mmtrx\u001b[0m\u001b[0;34m[\u001b[0m\u001b[0;36m0\u001b[0m\u001b[0;34m,\u001b[0m\u001b[0;36m0\u001b[0m\u001b[0;34m]\u001b[0m \u001b[0;34m=\u001b[0m \u001b[0;34m\"a\"\u001b[0m\u001b[0;34m\u001b[0m\u001b[0m\n\u001b[0m",
      "\u001b[0;31mValueError\u001b[0m: invalid literal for int() with base 10: 'a'"
     ]
    }
   ],
   "source": [
    "mtrx[0,0] = \"a\""
   ]
  },
  {
   "cell_type": "markdown",
   "metadata": {
    "nbpresent": {
     "id": "5606f055-2f59-4ef2-aebb-091e1c420cb5"
    }
   },
   "source": [
    "### 1.2.2 使用list创建numpy数组\n",
    "除了tuple, 我们还可以使用python中的**list**来构造向量或矩阵。"
   ]
  },
  {
   "cell_type": "code",
   "execution_count": 15,
   "metadata": {
    "collapsed": false,
    "nbpresent": {
     "id": "6ee985d6-2239-4139-8784-8abc293c3895"
    }
   },
   "outputs": [
    {
     "data": {
      "text/plain": [
       "array([1, 2, 3, 4])"
      ]
     },
     "execution_count": 15,
     "metadata": {},
     "output_type": "execute_result"
    }
   ],
   "source": [
    "# 构造一个一维的numpy数组, 传入的参数li是一个list\n",
    "li = [1,2,3,4]\n",
    "vec = np.array(li)\n",
    "vec"
   ]
  },
  {
   "cell_type": "code",
   "execution_count": 16,
   "metadata": {
    "collapsed": false,
    "nbpresent": {
     "id": "b423467b-9d9c-4db8-a38e-62a76b4113bb"
    }
   },
   "outputs": [
    {
     "data": {
      "text/plain": [
       "array([[1, 2, 3],\n",
       "       [2, 3, 4]])"
      ]
     },
     "execution_count": 16,
     "metadata": {},
     "output_type": "execute_result"
    }
   ],
   "source": [
    "# 构造一个二维的numpy数组, 传入的参数li是一个嵌套的list\n",
    "li = [[1, 2, 3], [2, 3, 4]]\n",
    "mtrx = np.array(li)\n",
    "mtrx"
   ]
  },
  {
   "cell_type": "markdown",
   "metadata": {
    "nbpresent": {
     "id": "e3ddebc7-bda0-4053-a090-2ebe587a2a79"
    }
   },
   "source": [
    "上一小节我们介绍了numpy数组的一些属性和相关函数, 这一小节再介绍几个.  \n",
    "对于一个numpy数组来说, 我们可以使用它的**shape**属性来查看行列数:"
   ]
  },
  {
   "cell_type": "code",
   "execution_count": 17,
   "metadata": {
    "collapsed": false,
    "nbpresent": {
     "id": "d9baad94-6d31-4ae5-af93-ce8fd253cb8f"
    }
   },
   "outputs": [
    {
     "data": {
      "text/plain": [
       "(2, 3)"
      ]
     },
     "execution_count": 17,
     "metadata": {},
     "output_type": "execute_result"
    }
   ],
   "source": [
    "mtrx.shape"
   ]
  },
  {
   "cell_type": "markdown",
   "metadata": {},
   "source": [
    "或者使用numpy的**shape**函数来查看:"
   ]
  },
  {
   "cell_type": "code",
   "execution_count": 18,
   "metadata": {
    "collapsed": false
   },
   "outputs": [
    {
     "name": "stdout",
     "output_type": "stream",
     "text": [
      "(2, 3)\n"
     ]
    }
   ],
   "source": [
    "print(np.shape(mtrx))"
   ]
  },
  {
   "cell_type": "markdown",
   "metadata": {
    "nbpresent": {
     "id": "3a3e99cf-e4fc-4356-92aa-d798c7661917"
    }
   },
   "source": [
    "从结果可以看出, 这是一个2行3列的numpy数组. 而对于一个一维的numpy数组:"
   ]
  },
  {
   "cell_type": "code",
   "execution_count": 19,
   "metadata": {
    "collapsed": false,
    "nbpresent": {
     "id": "52363ec1-ec8d-4778-bbfc-d6a936d68392"
    }
   },
   "outputs": [
    {
     "data": {
      "text/plain": [
       "array([1, 2, 3, 4])"
      ]
     },
     "execution_count": 19,
     "metadata": {},
     "output_type": "execute_result"
    }
   ],
   "source": [
    "vec"
   ]
  },
  {
   "cell_type": "code",
   "execution_count": 20,
   "metadata": {
    "collapsed": false
   },
   "outputs": [
    {
     "name": "stdout",
     "output_type": "stream",
     "text": [
      "(4,)\n"
     ]
    }
   ],
   "source": [
    "print(vec.shape)"
   ]
  },
  {
   "cell_type": "markdown",
   "metadata": {
    "nbpresent": {
     "id": "8d92756e-2470-4fd6-9a3b-50314d747e55"
    }
   },
   "source": [
    "numpy数组还有一个**size**属性, 表示该数组的元素个数. "
   ]
  },
  {
   "cell_type": "code",
   "execution_count": 21,
   "metadata": {
    "collapsed": false,
    "nbpresent": {
     "id": "14eb602c-ea5f-43e8-8f46-dfce979e9a30"
    }
   },
   "outputs": [
    {
     "name": "stdout",
     "output_type": "stream",
     "text": [
      "6\n"
     ]
    }
   ],
   "source": [
    "print(mtrx.size)"
   ]
  },
  {
   "cell_type": "markdown",
   "metadata": {
    "nbpresent": {
     "id": "b936cffb-3aa7-4200-8b60-a8cb1bff256b"
    }
   },
   "source": [
    "可以使用**itemsize**查看每个元素所占空间(bytes):"
   ]
  },
  {
   "cell_type": "code",
   "execution_count": 22,
   "metadata": {
    "collapsed": false,
    "nbpresent": {
     "id": "dab8ecb9-82e6-4ad0-8799-8f2af6b7fab6"
    }
   },
   "outputs": [
    {
     "data": {
      "text/plain": [
       "8"
      ]
     },
     "execution_count": 22,
     "metadata": {},
     "output_type": "execute_result"
    }
   ],
   "source": [
    "mtrx.itemsize"
   ]
  },
  {
   "cell_type": "markdown",
   "metadata": {
    "nbpresent": {
     "id": "5bc3b904-9fd5-454b-89fe-d39d93767cac"
    }
   },
   "source": [
    "### 1.2.3 使用numpy提供的函数生成矩阵\n",
    "由于前面的方法需要我们手动输入numpy数组的元素所以只适用于构造比较小的矩阵. 如果想要构造比较大的矩阵, 使用前面的方法就太低效了. 还好numpy提供了一些函数, 利用这些函数我们可以快速的构造不同形式的矩阵."
   ]
  },
  {
   "cell_type": "markdown",
   "metadata": {},
   "source": [
    "#### identity\n",
    "可以用它来快速生成单位阵."
   ]
  },
  {
   "cell_type": "code",
   "execution_count": 23,
   "metadata": {
    "collapsed": false
   },
   "outputs": [
    {
     "data": {
      "text/plain": [
       "array([[ 1.,  0.,  0.],\n",
       "       [ 0.,  1.,  0.],\n",
       "       [ 0.,  0.,  1.]])"
      ]
     },
     "execution_count": 23,
     "metadata": {},
     "output_type": "execute_result"
    }
   ],
   "source": [
    "np.identity(3)"
   ]
  },
  {
   "cell_type": "markdown",
   "metadata": {},
   "source": [
    "可以使用dtype指定元素类型:"
   ]
  },
  {
   "cell_type": "code",
   "execution_count": 24,
   "metadata": {
    "collapsed": false
   },
   "outputs": [
    {
     "data": {
      "text/plain": [
       "array([[1, 0, 0],\n",
       "       [0, 1, 0],\n",
       "       [0, 0, 1]])"
      ]
     },
     "execution_count": 24,
     "metadata": {},
     "output_type": "execute_result"
    }
   ],
   "source": [
    "np.identity(3, dtype=int)"
   ]
  },
  {
   "cell_type": "markdown",
   "metadata": {},
   "source": [
    "#### zeros & ones"
   ]
  },
  {
   "cell_type": "code",
   "execution_count": 25,
   "metadata": {
    "collapsed": false
   },
   "outputs": [
    {
     "data": {
      "text/plain": [
       "array([[1, 1, 1],\n",
       "       [1, 1, 1],\n",
       "       [1, 1, 1]])"
      ]
     },
     "execution_count": 25,
     "metadata": {},
     "output_type": "execute_result"
    }
   ],
   "source": [
    "np.ones((3,3), dtype=int)"
   ]
  },
  {
   "cell_type": "code",
   "execution_count": 26,
   "metadata": {
    "collapsed": false
   },
   "outputs": [
    {
     "data": {
      "text/plain": [
       "array([0, 0, 0, 0, 0])"
      ]
     },
     "execution_count": 26,
     "metadata": {},
     "output_type": "execute_result"
    }
   ],
   "source": [
    "np.zeros((5,), dtype=int)"
   ]
  },
  {
   "cell_type": "markdown",
   "metadata": {},
   "source": [
    "#### full"
   ]
  },
  {
   "cell_type": "code",
   "execution_count": 27,
   "metadata": {
    "collapsed": false
   },
   "outputs": [
    {
     "data": {
      "text/plain": [
       "array([[9, 9, 9],\n",
       "       [9, 9, 9],\n",
       "       [9, 9, 9]])"
      ]
     },
     "execution_count": 27,
     "metadata": {},
     "output_type": "execute_result"
    }
   ],
   "source": [
    "np.full((3,3), 9, dtype=int)"
   ]
  },
  {
   "cell_type": "markdown",
   "metadata": {
    "collapsed": true,
    "nbpresent": {
     "id": "ce7ca54f-4fb4-43cb-93ca-3e588ce03732"
    }
   },
   "source": [
    "#### arange"
   ]
  },
  {
   "cell_type": "markdown",
   "metadata": {
    "nbpresent": {
     "id": "dc3c07c3-69fa-4df5-827f-6317bd8812b2"
    }
   },
   "source": [
    "第一个参数为起始位置(默认为0), 第二个参数为结束位置(不包含), 第三个参数为跨度(默认为1)."
   ]
  },
  {
   "cell_type": "code",
   "execution_count": 28,
   "metadata": {
    "collapsed": false
   },
   "outputs": [
    {
     "data": {
      "text/plain": [
       "array([0, 1, 2, 3, 4, 5, 6, 7, 8, 9])"
      ]
     },
     "execution_count": 28,
     "metadata": {},
     "output_type": "execute_result"
    }
   ],
   "source": [
    "np.arange(10)"
   ]
  },
  {
   "cell_type": "code",
   "execution_count": 29,
   "metadata": {
    "collapsed": false
   },
   "outputs": [
    {
     "data": {
      "text/plain": [
       "array([1, 2, 3, 4, 5, 6, 7, 8, 9])"
      ]
     },
     "execution_count": 29,
     "metadata": {},
     "output_type": "execute_result"
    }
   ],
   "source": [
    "np.arange(1,10)"
   ]
  },
  {
   "cell_type": "code",
   "execution_count": 30,
   "metadata": {
    "collapsed": false,
    "nbpresent": {
     "id": "809c7f47-afae-4936-9b16-d7ac5aa5a5cd"
    }
   },
   "outputs": [
    {
     "data": {
      "text/plain": [
       "array([1, 3, 5, 7, 9])"
      ]
     },
     "execution_count": 30,
     "metadata": {},
     "output_type": "execute_result"
    }
   ],
   "source": [
    "np.arange(1, 10, 2)"
   ]
  },
  {
   "cell_type": "markdown",
   "metadata": {
    "nbpresent": {
     "id": "f2f12b4d-66d7-4b35-b9ec-225b00bb6db1"
    }
   },
   "source": [
    "跨度也可以使用小数"
   ]
  },
  {
   "cell_type": "code",
   "execution_count": 31,
   "metadata": {
    "collapsed": false,
    "nbpresent": {
     "id": "a106eda1-8903-4caf-b378-b45cd444c8e3"
    }
   },
   "outputs": [
    {
     "data": {
      "text/plain": [
       "array([ 1. ,  1.5,  2. ,  2.5,  3. ,  3.5,  4. ,  4.5])"
      ]
     },
     "execution_count": 31,
     "metadata": {},
     "output_type": "execute_result"
    }
   ],
   "source": [
    "np.arange(1, 5, 0.5)"
   ]
  },
  {
   "cell_type": "markdown",
   "metadata": {
    "nbpresent": {
     "id": "d3e3f4d8-07d3-4491-b8de-3a77f4912d57"
    }
   },
   "source": [
    "#### linspace"
   ]
  },
  {
   "cell_type": "markdown",
   "metadata": {
    "nbpresent": {
     "id": "925f57a5-7e32-4abd-81f6-a919f7b57715"
    }
   },
   "source": [
    "第一个参数为起始位置, 第二个参数为结束位置(包含), 第三个参数为总元素个数."
   ]
  },
  {
   "cell_type": "code",
   "execution_count": 32,
   "metadata": {
    "collapsed": false,
    "nbpresent": {
     "id": "0acfa037-514a-4a89-84eb-c33fdf5425a8"
    }
   },
   "outputs": [
    {
     "data": {
      "text/plain": [
       "array([  0.        ,   1.11111111,   2.22222222,   3.33333333,\n",
       "         4.44444444,   5.55555556,   6.66666667,   7.77777778,\n",
       "         8.88888889,  10.        ])"
      ]
     },
     "execution_count": 32,
     "metadata": {},
     "output_type": "execute_result"
    }
   ],
   "source": [
    "np.linspace(0, 10, num=10)"
   ]
  },
  {
   "cell_type": "markdown",
   "metadata": {},
   "source": [
    "参数endpoint默认为False, 当其为true时, 结果如下:"
   ]
  },
  {
   "cell_type": "code",
   "execution_count": 33,
   "metadata": {
    "collapsed": false
   },
   "outputs": [
    {
     "data": {
      "text/plain": [
       "array([ 0.,  1.,  2.,  3.,  4.,  5.,  6.,  7.,  8.,  9.])"
      ]
     },
     "execution_count": 33,
     "metadata": {},
     "output_type": "execute_result"
    }
   ],
   "source": [
    "np.linspace(0, 10, num=10, endpoint=False)"
   ]
  },
  {
   "cell_type": "markdown",
   "metadata": {},
   "source": [
    "这个函数稍微复杂一点, 可以看一下官方文档:[numpy.linspace](https://docs.scipy.org/doc/numpy/reference/generated/numpy.linspace.html#numpy.linspace)"
   ]
  },
  {
   "cell_type": "markdown",
   "metadata": {},
   "source": [
    "#### logspace"
   ]
  },
  {
   "cell_type": "markdown",
   "metadata": {
    "collapsed": true
   },
   "source": [
    "刚才的linspace得到的各个元素之间是均匀增长的, 而logspace是指数增长的, 他需要第四个参数base(底数). 举个例子就好理解了:"
   ]
  },
  {
   "cell_type": "code",
   "execution_count": 34,
   "metadata": {
    "collapsed": false
   },
   "outputs": [
    {
     "data": {
      "text/plain": [
       "array([ 1.,  2.,  3.,  4.,  5.])"
      ]
     },
     "execution_count": 34,
     "metadata": {},
     "output_type": "execute_result"
    }
   ],
   "source": [
    "np.linspace(1, 5, num=5)"
   ]
  },
  {
   "cell_type": "code",
   "execution_count": 35,
   "metadata": {
    "collapsed": false
   },
   "outputs": [
    {
     "data": {
      "text/plain": [
       "array([  2.,   4.,   8.,  16.,  32.])"
      ]
     },
     "execution_count": 35,
     "metadata": {},
     "output_type": "execute_result"
    }
   ],
   "source": [
    "np.logspace(1, 5, num=5, base=2)"
   ]
  },
  {
   "cell_type": "markdown",
   "metadata": {
    "nbpresent": {
     "id": "f9f6fd90-22d0-4701-ac54-5f3f418ad074"
    }
   },
   "source": [
    "#### rand"
   ]
  },
  {
   "cell_type": "code",
   "execution_count": 36,
   "metadata": {
    "collapsed": true,
    "nbpresent": {
     "id": "d4fd5175-598a-4907-a616-d8f322467c36"
    }
   },
   "outputs": [],
   "source": [
    "from numpy import random"
   ]
  },
  {
   "cell_type": "markdown",
   "metadata": {
    "nbpresent": {
     "id": "a8b300d3-5888-473e-af64-18ad7619b12b"
    }
   },
   "source": [
    "每个元素为[0,1]随机数"
   ]
  },
  {
   "cell_type": "code",
   "execution_count": 37,
   "metadata": {
    "collapsed": false,
    "nbpresent": {
     "id": "0d106813-2024-41c0-9a36-0abe7fd75c37"
    }
   },
   "outputs": [
    {
     "data": {
      "text/plain": [
       "array([[ 0.65307437,  0.35012509,  0.04573917],\n",
       "       [ 0.06051451,  0.10018257,  0.19220867],\n",
       "       [ 0.82335926,  0.93046164,  0.53916976]])"
      ]
     },
     "execution_count": 37,
     "metadata": {},
     "output_type": "execute_result"
    }
   ],
   "source": [
    "random.rand(3,3)"
   ]
  },
  {
   "cell_type": "markdown",
   "metadata": {
    "nbpresent": {
     "id": "c397d013-6cf8-416d-97af-c44b881c5d60"
    }
   },
   "source": [
    "#### rand\n",
    "服从标准正态分布的随机数"
   ]
  },
  {
   "cell_type": "code",
   "execution_count": 38,
   "metadata": {
    "collapsed": false,
    "nbpresent": {
     "id": "06329013-ddba-44db-9f34-a21afa84ec1e"
    }
   },
   "outputs": [
    {
     "data": {
      "text/plain": [
       "array([[ 1.08463233, -0.0680356 ,  0.08319301],\n",
       "       [ 0.26580279, -0.53139867,  1.70209359],\n",
       "       [ 0.89119617,  1.67194517,  0.53532614]])"
      ]
     },
     "execution_count": 38,
     "metadata": {},
     "output_type": "execute_result"
    }
   ],
   "source": [
    "random.randn(3,3)"
   ]
  },
  {
   "cell_type": "markdown",
   "metadata": {},
   "source": [
    "可以将生成的数据的分布画出来:"
   ]
  },
  {
   "cell_type": "code",
   "execution_count": 39,
   "metadata": {
    "collapsed": false
   },
   "outputs": [
    {
     "name": "stderr",
     "output_type": "stream",
     "text": [
      "/Users/bobo/anaconda/envs/Python3.5/lib/python3.5/site-packages/IPython/html.py:14: ShimWarning: The `IPython.html` package has been deprecated. You should import from `notebook` instead. `IPython.html.widgets` has moved to `ipywidgets`.\n",
      "  \"`IPython.html.widgets` has moved to `ipywidgets`.\", ShimWarning)\n"
     ]
    },
    {
     "data": {
      "image/png": "[encoded data removed]",
      "text/plain": [
       "<matplotlib.figure.Figure at 0x10bdaa470>"
      ]
     },
     "metadata": {},
     "output_type": "display_data"
    }
   ],
   "source": [
    "import seaborn as sns\n",
    "%matplotlib inline\n",
    "import matplotlib.pyplot as plt\n",
    "sns.kdeplot(np.random.randn(100000), shade=True)\n",
    "sns.despine(right=True, top=True)\n",
    "sns.set_style(\"white\")\n",
    "plt.xlim(-4, 4)\n",
    "plt.title(\"Random Number Distribution\")\n",
    "plt.show()"
   ]
  },
  {
   "cell_type": "markdown",
   "metadata": {
    "nbpresent": {
     "id": "81c3a61e-2df5-42c5-a9f7-0c2b818f3db8"
    }
   },
   "source": [
    "#### diag"
   ]
  },
  {
   "cell_type": "markdown",
   "metadata": {},
   "source": [
    "指定对角线元素"
   ]
  },
  {
   "cell_type": "code",
   "execution_count": 40,
   "metadata": {
    "collapsed": false,
    "nbpresent": {
     "id": "483be06f-1262-4a7f-ab38-cb2c746b62d6"
    }
   },
   "outputs": [
    {
     "data": {
      "text/plain": [
       "array([[1, 0, 0],\n",
       "       [0, 2, 0],\n",
       "       [0, 0, 3]])"
      ]
     },
     "execution_count": 40,
     "metadata": {},
     "output_type": "execute_result"
    }
   ],
   "source": [
    "np.diag([1,2,3])"
   ]
  },
  {
   "cell_type": "markdown",
   "metadata": {},
   "source": [
    "可以使用参数k来设定偏移量:"
   ]
  },
  {
   "cell_type": "code",
   "execution_count": 41,
   "metadata": {
    "collapsed": false,
    "nbpresent": {
     "id": "8ed942bd-33e6-442b-a9c6-2467ed3fb54f"
    }
   },
   "outputs": [
    {
     "data": {
      "text/plain": [
       "array([[0, 1, 0, 0],\n",
       "       [0, 0, 2, 0],\n",
       "       [0, 0, 0, 3],\n",
       "       [0, 0, 0, 0]])"
      ]
     },
     "execution_count": 41,
     "metadata": {},
     "output_type": "execute_result"
    }
   ],
   "source": [
    "np.diag([1,2,3], k=1)"
   ]
  },
  {
   "cell_type": "code",
   "execution_count": 42,
   "metadata": {
    "collapsed": false,
    "nbpresent": {
     "id": "d08e078f-cf86-461b-bc52-998ce4427d54"
    }
   },
   "outputs": [
    {
     "data": {
      "text/plain": [
       "array([[0, 0, 0, 0, 0],\n",
       "       [0, 0, 0, 0, 0],\n",
       "       [1, 0, 0, 0, 0],\n",
       "       [0, 2, 0, 0, 0],\n",
       "       [0, 0, 3, 0, 0]])"
      ]
     },
     "execution_count": 42,
     "metadata": {},
     "output_type": "execute_result"
    }
   ],
   "source": [
    "np.diag([1,2,3], k=-2)"
   ]
  },
  {
   "cell_type": "markdown",
   "metadata": {
    "nbpresent": {
     "id": "ec810848-db06-40d2-a49a-668ce459cc3c"
    }
   },
   "source": [
    "### 1.2.4 从文件中读取数据"
   ]
  },
  {
   "cell_type": "markdown",
   "metadata": {},
   "source": [
    "这一节我们使用NBA火箭队球员詹姆斯$\\bullet$哈登2009-2010赛季至本赛季的相关数据来作为例子讲解.数据我是从官网整理的(2016.12.07). 我们先来使用shell命令来查看一下文件. (在ipython中使用shell命令, 命令前要加上!)"
   ]
  },
  {
   "cell_type": "code",
   "execution_count": 43,
   "metadata": {
    "collapsed": false
   },
   "outputs": [
    {
     "name": "stdout",
     "output_type": "stream",
     "text": [
      "JamesHarden.csv   random-matrix.csv\r\n"
     ]
    }
   ],
   "source": [
    "!ls data"
   ]
  },
  {
   "cell_type": "markdown",
   "metadata": {
    "nbpresent": {
     "id": "6872c4f5-242a-4614-9349-66b1e5fcbd35"
    }
   },
   "source": [
    "使用head命令查看该文件内容:"
   ]
  },
  {
   "cell_type": "code",
   "execution_count": 44,
   "metadata": {
    "collapsed": false,
    "nbpresent": {
     "id": "611d30ac-7d37-4722-8eff-3e28f57a53de"
    },
    "scrolled": true
   },
   "outputs": [
    {
     "name": "stdout",
     "output_type": "stream",
     "text": [
      "MIN,PTS,FG%,3P%,FT%,REB,AST,TOV,STL,BLK\r",
      "\r\n",
      "37.1,28.7,44.7,35.3,84.4,7.6,11.6,5.7,1.4,0.3\r",
      "\r\n",
      "38.1,29,43.9,35.9,86,6.1,7.5,4.6,1.7,0.6\r",
      "\r\n",
      "36.8,27.4,44,37.5,86.8,5.7,7,4,1.9,0.7\r",
      "\r\n",
      "38,25.4,45.6,36.6,86.6,4.7,6.1,3.6,1.6,0.4\r",
      "\r\n",
      "38.3,25.9,43.8,36.8,85.1,4.9,5.8,3.8,1.8,0.5\r",
      "\r\n",
      "31.4,16.8,49.1,39,84.6,4.1,3.7,2.2,1,0.2\r",
      "\r\n",
      "26.7,12.2,43.6,34.9,84.3,3.1,2.1,1.3,1.1,0.3\r",
      "\r\n",
      "22.9,9.9,40.3,37.5,80.8,3.2,1.8,1.4,1.1,0.3"
     ]
    }
   ],
   "source": [
    "!head data/JamesHarden.csv"
   ]
  },
  {
   "cell_type": "markdown",
   "metadata": {
    "nbpresent": {
     "id": "889dd19c-a039-4dbe-a5ab-33cf362be895"
    }
   },
   "source": [
    "这是本赛季截至2016.12.07的数据:    \n",
    "\n",
    "|上场时间|得分|投篮命中率%|三分命中率%|罚球命中率%|篮板|助攻|失误|抢断|盖帽| \n",
    "|:-:|:-:|:-:|:-:|:-:|:-:|:-:|:-:|:-:|\n",
    "|37.1|28.7|44.7|35.3|84.4|7.6|11.6|5.7|1.4|0.3|\n",
    "\n",
    "数据文件处理好之后, 我们需要读取它. 可以使用numpy中的**genfromtxt**函数来读取数据(csv文件分隔符为逗号):"
   ]
  },
  {
   "cell_type": "code",
   "execution_count": 45,
   "metadata": {
    "collapsed": false,
    "nbpresent": {
     "id": "59ac3886-024d-4b30-b9dd-53191f55931d"
    }
   },
   "outputs": [],
   "source": [
    "data = np.genfromtxt(\"data/JamesHarden.csv\", delimiter=\",\")"
   ]
  },
  {
   "cell_type": "markdown",
   "metadata": {},
   "source": [
    "查看一下数据的行列数:"
   ]
  },
  {
   "cell_type": "code",
   "execution_count": 46,
   "metadata": {
    "collapsed": false,
    "nbpresent": {
     "id": "0a055c38-4e4e-46dc-be1b-43e6837c0e5b"
    }
   },
   "outputs": [
    {
     "data": {
      "text/plain": [
       "(9, 10)"
      ]
     },
     "execution_count": 46,
     "metadata": {},
     "output_type": "execute_result"
    }
   ],
   "source": [
    "data.shape"
   ]
  },
  {
   "cell_type": "markdown",
   "metadata": {},
   "source": [
    "哈登是09年加入联盟, 到目前为止是它的第八个赛季, 加上第一行一共9行. 我们在来具体的看一下数据内容:"
   ]
  },
  {
   "cell_type": "code",
   "execution_count": 47,
   "metadata": {
    "collapsed": false,
    "nbpresent": {
     "id": "b16cad66-8a1b-49dc-b5ba-e538721b9cb2"
    },
    "scrolled": true
   },
   "outputs": [
    {
     "name": "stdout",
     "output_type": "stream",
     "text": [
      "[[  nan   nan   nan   nan   nan   nan   nan   nan   nan   nan]\n",
      " [ 37.1  28.7  44.7  35.3  84.4   7.6  11.6   5.7   1.4   0.3]\n",
      " [ 38.1  29.   43.9  35.9  86.    6.1   7.5   4.6   1.7   0.6]\n",
      " [ 36.8  27.4  44.   37.5  86.8   5.7   7.    4.    1.9   0.7]\n",
      " [ 38.   25.4  45.6  36.6  86.6   4.7   6.1   3.6   1.6   0.4]\n",
      " [ 38.3  25.9  43.8  36.8  85.1   4.9   5.8   3.8   1.8   0.5]\n",
      " [ 31.4  16.8  49.1  39.   84.6   4.1   3.7   2.2   1.    0.2]\n",
      " [ 26.7  12.2  43.6  34.9  84.3   3.1   2.1   1.3   1.1   0.3]\n",
      " [ 22.9   9.9  40.3  37.5  80.8   3.2   1.8   1.4   1.1   0.3]]\n"
     ]
    }
   ],
   "source": [
    "print(data)"
   ]
  },
  {
   "cell_type": "markdown",
   "metadata": {
    "nbpresent": {
     "id": "8da150fe-660b-4029-91ba-285fd44a17e0"
    }
   },
   "source": [
    "我们发现第一行竟然全变成了nan, 之前说了ndarray元素必须是同一数据类型. 这里numpy试图把所有的值都转成浮点型, 但是第一行无法转成浮点型, 就变成了nan. nan是not a number的缩写. 我们查看一下元素类型:"
   ]
  },
  {
   "cell_type": "code",
   "execution_count": 48,
   "metadata": {
    "collapsed": false,
    "nbpresent": {
     "id": "97f36a62-255a-42fa-9bf5-84b8c5639162"
    }
   },
   "outputs": [
    {
     "data": {
      "text/plain": [
       "dtype('float64')"
      ]
     },
     "execution_count": 48,
     "metadata": {},
     "output_type": "execute_result"
    }
   ],
   "source": [
    "data.dtype"
   ]
  },
  {
   "cell_type": "markdown",
   "metadata": {},
   "source": [
    "我们可以利用切片来除去第一行的内容:"
   ]
  },
  {
   "cell_type": "code",
   "execution_count": 49,
   "metadata": {
    "collapsed": true
   },
   "outputs": [],
   "source": [
    "data = data[1:]"
   ]
  },
  {
   "cell_type": "code",
   "execution_count": 50,
   "metadata": {
    "collapsed": false
   },
   "outputs": [
    {
     "name": "stdout",
     "output_type": "stream",
     "text": [
      "[[ 37.1  28.7  44.7  35.3  84.4   7.6  11.6   5.7   1.4   0.3]\n",
      " [ 38.1  29.   43.9  35.9  86.    6.1   7.5   4.6   1.7   0.6]\n",
      " [ 36.8  27.4  44.   37.5  86.8   5.7   7.    4.    1.9   0.7]\n",
      " [ 38.   25.4  45.6  36.6  86.6   4.7   6.1   3.6   1.6   0.4]\n",
      " [ 38.3  25.9  43.8  36.8  85.1   4.9   5.8   3.8   1.8   0.5]\n",
      " [ 31.4  16.8  49.1  39.   84.6   4.1   3.7   2.2   1.    0.2]\n",
      " [ 26.7  12.2  43.6  34.9  84.3   3.1   2.1   1.3   1.1   0.3]\n",
      " [ 22.9   9.9  40.3  37.5  80.8   3.2   1.8   1.4   1.1   0.3]]\n"
     ]
    }
   ],
   "source": [
    "print(data)"
   ]
  },
  {
   "cell_type": "markdown",
   "metadata": {},
   "source": [
    "这时候我们的数据已经读取成功了. 下面我们来对某些数据稍微可视化一下, 这里需要用到matplotlib.(笔记见这里:[matplotlib笔记](#))"
   ]
  },
  {
   "cell_type": "code",
   "execution_count": 51,
   "metadata": {
    "collapsed": false,
    "nbpresent": {
     "id": "438d075c-719a-41d8-ad2c-f7da40d21cac"
    }
   },
   "outputs": [],
   "source": [
    "%matplotlib inline\n",
    "import matplotlib.pyplot as plt"
   ]
  },
  {
   "cell_type": "markdown",
   "metadata": {},
   "source": [
    "现在我们想看一下哈登从新秀赛季到本赛季的场均得分变化的情况.  \n",
    "首先获取得分数据:"
   ]
  },
  {
   "cell_type": "code",
   "execution_count": 52,
   "metadata": {
    "collapsed": false
   },
   "outputs": [
    {
     "name": "stdout",
     "output_type": "stream",
     "text": [
      "[ 37.1  38.1  36.8  38.   38.3  31.4  26.7  22.9]\n"
     ]
    }
   ],
   "source": [
    "points = data[:,0]\n",
    "print(points)"
   ]
  },
  {
   "cell_type": "markdown",
   "metadata": {
    "nbpresent": {
     "id": "671def43-2e54-4910-9cd6-f58be563563e"
    }
   },
   "source": [
    "此时的数据是从本赛季到09赛季, 所以先要把它倒过来.(参考:[Most efficient way to reverse a numpy array](http://stackoverflow.com/questions/6771428/most-efficient-way-to-reverse-a-numpy-array), [Basic Slicing and Indexing](https://docs.scipy.org/doc/numpy/reference/arrays.indexing.html))."
   ]
  },
  {
   "cell_type": "code",
   "execution_count": 53,
   "metadata": {
    "collapsed": false
   },
   "outputs": [
    {
     "name": "stdout",
     "output_type": "stream",
     "text": [
      "[ 22.9  26.7  31.4  38.3  38.   36.8  38.1  37.1]\n"
     ]
    }
   ],
   "source": [
    "points = points[::-1]\n",
    "print(points)"
   ]
  },
  {
   "cell_type": "markdown",
   "metadata": {},
   "source": [
    "并且, 画折线图的时候, 横坐标是连续的数值, 需要将其转换成离散的字符串(参考:[plot with custom text for x axis points](http://stackoverflow.com/questions/3100985/plot-with-custom-text-for-x-axis-points)).  (后面学了pandas就比较简单了)"
   ]
  },
  {
   "cell_type": "code",
   "execution_count": 54,
   "metadata": {
    "collapsed": true
   },
   "outputs": [],
   "source": [
    "date = [\"2009-2010\", \"2010-2011\", \"2011-2012\", \"2012-2013\", \"2013-2014\", \"2014-2015\", \"2015-2016\", \"2016-2017\"]"
   ]
  },
  {
   "cell_type": "code",
   "execution_count": 55,
   "metadata": {
    "collapsed": false,
    "nbpresent": {
     "id": "998e32b9-5bac-484d-bfcf-557a52d3e7f9"
    }
   },
   "outputs": [
    {
     "data": {
      "image/png": "[encoded data removed]",
      "text/plain": [
       "<matplotlib.figure.Figure at 0x10fb7fb38>"
      ]
     },
     "metadata": {},
     "output_type": "display_data"
    }
   ],
   "source": [
    "x = [0,1,2,3,4,5,6,7]\n",
    "_, ax = plt.subplots()\n",
    "ax.plot(x, points, linewidth=2.5, c=(255/255, 128/255, 14/255))\n",
    "ax.set_xlabel(\"Season\")\n",
    "ax.set_ylabel(\"Average Points\")\n",
    "ax.tick_params(right=\"off\", left=\"off\", top=\"off\")\n",
    "ax.spines[\"right\"].set_visible(False)\n",
    "ax.spines[\"top\"].set_visible(False)\n",
    "plt.xticks(x, date)\n",
    "plt.xticks(rotation=45)\n",
    "plt.show()"
   ]
  },
  {
   "cell_type": "markdown",
   "metadata": {
    "nbpresent": {
     "id": "97f9a4d7-dde8-4898-b0db-5d2fbcff2d7f"
    }
   },
   "source": [
    "从上图看出, 从新秀赛季开始的四个赛季, 场均得分飙升. 特别是12-13赛季, 场均得分上升最快的一年. 到后面就趋于稳定了. (2012年哈登从雷霆被交易到火箭, 从最佳第六人变成老大.)  \n",
    "再来看一个助攻的数据."
   ]
  },
  {
   "cell_type": "code",
   "execution_count": 56,
   "metadata": {
    "collapsed": false,
    "nbpresent": {
     "id": "d7c06c8e-43a3-4217-b023-6b50f4510207"
    }
   },
   "outputs": [
    {
     "data": {
      "image/png": "[encoded data removed]",
      "text/plain": [
       "<matplotlib.figure.Figure at 0x112959208>"
      ]
     },
     "metadata": {},
     "output_type": "display_data"
    }
   ],
   "source": [
    "assists = data[:,6][::-1]\n",
    "x = [0,1,2,3,4,5,6,7]\n",
    "_, ax = plt.subplots()\n",
    "ax.plot(x, assists, linewidth=2.5, c=(0/255, 107/255, 164/255))\n",
    "ax.set_xlabel(\"Season\")\n",
    "ax.set_ylabel(\"Average Assists\")\n",
    "ax.tick_params(right=\"off\", left=\"off\", top=\"off\")\n",
    "ax.spines[\"right\"].set_visible(False)\n",
    "ax.spines[\"top\"].set_visible(False)\n",
    "plt.xticks(x, date)\n",
    "plt.xticks(rotation=45)\n",
    "plt.show()"
   ]
  },
  {
   "cell_type": "markdown",
   "metadata": {
    "nbpresent": {
     "id": "17621e92-546d-4ae3-ba56-0515f94a65f1"
    }
   },
   "source": [
    "本赛季哈登最大的变化就是助攻了, 目前(2016.12.07)场均助攻领跑全联盟."
   ]
  },
  {
   "cell_type": "markdown",
   "metadata": {
    "nbpresent": {
     "id": "ecec6ad5-badc-4615-8678-727caab38842"
    }
   },
   "source": [
    "### 1.2.5 将数据保存到文件"
   ]
  },
  {
   "cell_type": "markdown",
   "metadata": {
    "nbpresent": {
     "id": "250f9fbe-761b-4bb7-8c21-45eb558064f1"
    }
   },
   "source": [
    "numpy可以从文件中读取数据, 也可以把数据保存到文件."
   ]
  },
  {
   "cell_type": "code",
   "execution_count": 57,
   "metadata": {
    "collapsed": false,
    "nbpresent": {
     "id": "b7ba0488-ae22-49bd-8906-3040dc56dff5"
    }
   },
   "outputs": [
    {
     "data": {
      "text/plain": [
       "array([[ 0.66776523,  0.83905715,  0.61692316,  0.21797217,  0.28996015],\n",
       "       [ 0.55919454,  0.55785348,  0.50314433,  0.09919922,  0.1427167 ],\n",
       "       [ 0.28488878,  0.95934098,  0.68012271,  0.29484497,  0.83371593],\n",
       "       [ 0.79905124,  0.40258033,  0.35732331,  0.0019318 ,  0.31272604],\n",
       "       [ 0.89018073,  0.64609932,  0.45024244,  0.8397593 ,  0.3094994 ]])"
      ]
     },
     "execution_count": 57,
     "metadata": {},
     "output_type": "execute_result"
    }
   ],
   "source": [
    "mtrx = random.rand(5,5)\n",
    "mtrx"
   ]
  },
  {
   "cell_type": "code",
   "execution_count": 58,
   "metadata": {
    "collapsed": true,
    "nbpresent": {
     "id": "2bdf33ae-b694-4f97-aff3-1bb660135488"
    }
   },
   "outputs": [],
   "source": [
    "np.savetxt(\"data/random-matrix.csv\", mtrx, fmt=\"%.8f\")"
   ]
  },
  {
   "cell_type": "markdown",
   "metadata": {
    "nbpresent": {
     "id": "baf2bdb8-72d3-4be9-9eff-b04a90499fed"
    }
   },
   "source": [
    "查看保存的数据:"
   ]
  },
  {
   "cell_type": "code",
   "execution_count": 59,
   "metadata": {
    "collapsed": false,
    "nbpresent": {
     "id": "8bb6b366-f81e-422f-a4ff-d5dcb289913a"
    }
   },
   "outputs": [
    {
     "name": "stdout",
     "output_type": "stream",
     "text": [
      "JamesHarden.csv   random-matrix.csv\r\n"
     ]
    }
   ],
   "source": [
    "!ls data/"
   ]
  },
  {
   "cell_type": "code",
   "execution_count": 60,
   "metadata": {
    "collapsed": false,
    "nbpresent": {
     "id": "1ea0d949-fa7a-4a37-b3de-d7f1ec2ddf77"
    }
   },
   "outputs": [
    {
     "name": "stdout",
     "output_type": "stream",
     "text": [
      "0.66776523 0.83905715 0.61692316 0.21797217 0.28996015\r\n",
      "0.55919454 0.55785348 0.50314433 0.09919922 0.14271670\r\n",
      "0.28488878 0.95934098 0.68012271 0.29484497 0.83371593\r\n",
      "0.79905124 0.40258033 0.35732331 0.00193180 0.31272604\r\n",
      "0.89018073 0.64609932 0.45024244 0.83975930 0.30949940\r\n"
     ]
    }
   ],
   "source": [
    "!head data/random-matrix.csv"
   ]
  },
  {
   "cell_type": "markdown",
   "metadata": {
    "nbpresent": {
     "id": "d8e65633-5166-45a0-9a14-0790bdb7b724"
    }
   },
   "source": [
    "## 1.3 矩阵操作"
   ]
  },
  {
   "cell_type": "markdown",
   "metadata": {
    "nbpresent": {
     "id": "d161dac6-4367-4a56-b9d1-16334c5d9afc"
    }
   },
   "source": [
    "### 1.3.1 索引"
   ]
  },
  {
   "cell_type": "markdown",
   "metadata": {
    "nbpresent": {
     "id": "855afcf2-ee20-4197-97b5-68b2372a6d06"
    }
   },
   "source": [
    "当操作对象是向量时, 此时的索引和python中的列表没差别:"
   ]
  },
  {
   "cell_type": "code",
   "execution_count": 61,
   "metadata": {
    "collapsed": false,
    "nbpresent": {
     "id": "84bf7f22-2109-4e0d-bd04-3cb80e6343ac"
    }
   },
   "outputs": [
    {
     "name": "stdout",
     "output_type": "stream",
     "text": [
      "2\n"
     ]
    }
   ],
   "source": [
    "vec = np.array([1,2,3])\n",
    "print(vec[1])"
   ]
  },
  {
   "cell_type": "markdown",
   "metadata": {
    "nbpresent": {
     "id": "8ba3c31f-93bb-4aa5-bc42-39384df6f964"
    }
   },
   "source": [
    "当操作对象是矩阵时, 可用[a,b]表示a行b列的元素(0行0列开始):"
   ]
  },
  {
   "cell_type": "code",
   "execution_count": 62,
   "metadata": {
    "collapsed": false,
    "nbpresent": {
     "id": "9bc8a79e-7d5f-4079-b8fe-d0367b19d1c2"
    }
   },
   "outputs": [
    {
     "name": "stdout",
     "output_type": "stream",
     "text": [
      "[[1 2 3]\n",
      " [4 5 6]\n",
      " [7 8 9]]\n"
     ]
    }
   ],
   "source": [
    "mtrx = np.array([[1,2,3], [4,5,6], [7,8,9]])\n",
    "print(mtrx)"
   ]
  },
  {
   "cell_type": "code",
   "execution_count": 63,
   "metadata": {
    "collapsed": false,
    "nbpresent": {
     "id": "68a2fa6e-c6ed-4016-8445-ad18e4373335"
    }
   },
   "outputs": [
    {
     "data": {
      "text/plain": [
       "6"
      ]
     },
     "execution_count": 63,
     "metadata": {},
     "output_type": "execute_result"
    }
   ],
   "source": [
    "mtrx[1,2]"
   ]
  },
  {
   "cell_type": "markdown",
   "metadata": {
    "nbpresent": {
     "id": "025cb860-5311-4cdd-aeb8-d516667cb79b"
    }
   },
   "source": [
    "若输入第一个数字, 那么就代表整行的元素组成的向量:"
   ]
  },
  {
   "cell_type": "code",
   "execution_count": 64,
   "metadata": {
    "collapsed": false,
    "nbpresent": {
     "id": "feccbfc2-b40e-47eb-a5ca-b737ebfc7e5f"
    }
   },
   "outputs": [
    {
     "data": {
      "text/plain": [
       "array([4, 5, 6])"
      ]
     },
     "execution_count": 64,
     "metadata": {},
     "output_type": "execute_result"
    }
   ],
   "source": [
    "# 第二行所有元素\n",
    "mtrx[1,]"
   ]
  },
  {
   "cell_type": "markdown",
   "metadata": {
    "nbpresent": {
     "id": "387b29c6-73ab-4ff1-a02f-b33f0c36d966"
    }
   },
   "source": [
    "但是不可以只输入第二个数字:"
   ]
  },
  {
   "cell_type": "code",
   "execution_count": 65,
   "metadata": {
    "collapsed": false,
    "nbpresent": {
     "id": "d1e0cd3e-bbe6-459b-8906-ff64c5706e32"
    }
   },
   "outputs": [
    {
     "ename": "SyntaxError",
     "evalue": "invalid syntax (<ipython-input-65-df6afdcc3bb8>, line 2)",
     "output_type": "error",
     "traceback": [
      "\u001b[0;36m  File \u001b[0;32m\"<ipython-input-65-df6afdcc3bb8>\"\u001b[0;36m, line \u001b[0;32m2\u001b[0m\n\u001b[0;31m    mtrx[,1]\u001b[0m\n\u001b[0m         ^\u001b[0m\n\u001b[0;31mSyntaxError\u001b[0m\u001b[0;31m:\u001b[0m invalid syntax\n"
     ]
    }
   ],
   "source": [
    "# 报错\n",
    "mtrx[,1]"
   ]
  },
  {
   "cell_type": "markdown",
   "metadata": {
    "nbpresent": {
     "id": "9a233c3f-eaec-45ee-979c-9a2263d39b20"
    }
   },
   "source": [
    "可以使用冒号:"
   ]
  },
  {
   "cell_type": "code",
   "execution_count": 66,
   "metadata": {
    "collapsed": false,
    "nbpresent": {
     "id": "3f7ebadd-5b9e-43cc-b3d5-41afc82d2d94"
    }
   },
   "outputs": [
    {
     "data": {
      "text/plain": [
       "array([2, 5, 8])"
      ]
     },
     "execution_count": 66,
     "metadata": {},
     "output_type": "execute_result"
    }
   ],
   "source": [
    "# 第二列所有元素\n",
    "mtrx[:,1]"
   ]
  },
  {
   "cell_type": "code",
   "execution_count": 67,
   "metadata": {
    "collapsed": false,
    "nbpresent": {
     "id": "afe82425-0364-4ce0-9582-f08b4e254b3a"
    }
   },
   "outputs": [
    {
     "name": "stdout",
     "output_type": "stream",
     "text": [
      "[4 5 6]\n",
      "[4 5 6]\n"
     ]
    }
   ],
   "source": [
    "# 同样地, mtrx[1,]也可以写成mtrx[1,:]:\n",
    "print(mtrx[1,])\n",
    "print(mtrx[1,:])"
   ]
  },
  {
   "cell_type": "markdown",
   "metadata": {
    "nbpresent": {
     "id": "64b8f1d9-fd7a-47a8-bd2a-e49489dd3738"
    }
   },
   "source": [
    "### 1.3.2 赋值"
   ]
  },
  {
   "cell_type": "code",
   "execution_count": 68,
   "metadata": {
    "collapsed": false,
    "nbpresent": {
     "id": "5be0b1c9-ae61-4986-a234-be07f8660b7d"
    }
   },
   "outputs": [
    {
     "data": {
      "text/plain": [
       "array([1, 2, 3])"
      ]
     },
     "execution_count": 68,
     "metadata": {},
     "output_type": "execute_result"
    }
   ],
   "source": [
    "vec"
   ]
  },
  {
   "cell_type": "code",
   "execution_count": 69,
   "metadata": {
    "collapsed": false,
    "nbpresent": {
     "id": "458569c4-f581-4fe5-a10b-a3b23d1114ec"
    }
   },
   "outputs": [
    {
     "data": {
      "text/plain": [
       "array([[1, 2, 3],\n",
       "       [4, 5, 6],\n",
       "       [7, 8, 9]])"
      ]
     },
     "execution_count": 69,
     "metadata": {},
     "output_type": "execute_result"
    }
   ],
   "source": [
    "mtrx"
   ]
  },
  {
   "cell_type": "markdown",
   "metadata": {
    "nbpresent": {
     "id": "a735c2b8-2bcf-447e-9dd5-688931c060ec"
    }
   },
   "source": [
    "知道了索引之后, 就可以进行赋值操作了.对于一个向量:"
   ]
  },
  {
   "cell_type": "code",
   "execution_count": 70,
   "metadata": {
    "collapsed": false,
    "nbpresent": {
     "id": "7f482733-6cdd-431a-ab16-6b1cdcb78c9a"
    }
   },
   "outputs": [
    {
     "data": {
      "text/plain": [
       "array([ 1, 10,  3])"
      ]
     },
     "execution_count": 70,
     "metadata": {},
     "output_type": "execute_result"
    }
   ],
   "source": [
    "vec[1] = 10\n",
    "vec"
   ]
  },
  {
   "cell_type": "markdown",
   "metadata": {
    "nbpresent": {
     "id": "3481e996-eccd-4f7c-91a6-afb517051404"
    }
   },
   "source": [
    "对于一个矩阵:"
   ]
  },
  {
   "cell_type": "code",
   "execution_count": 71,
   "metadata": {
    "collapsed": false,
    "nbpresent": {
     "id": "1e4e151d-2104-43da-923a-e42a8a12720b"
    }
   },
   "outputs": [
    {
     "data": {
      "text/plain": [
       "array([[ 1,  2,  3],\n",
       "       [ 4, 99,  6],\n",
       "       [ 7,  8,  9]])"
      ]
     },
     "execution_count": 71,
     "metadata": {},
     "output_type": "execute_result"
    }
   ],
   "source": [
    "mtrx[1,1] = 99\n",
    "mtrx"
   ]
  },
  {
   "cell_type": "markdown",
   "metadata": {
    "nbpresent": {
     "id": "1a1de24a-9b6e-4b7e-b2bd-e7dbb7e1f9fa"
    }
   },
   "source": [
    "也可以对整行或整列赋值:"
   ]
  },
  {
   "cell_type": "code",
   "execution_count": 72,
   "metadata": {
    "collapsed": false,
    "nbpresent": {
     "id": "2985d6fe-dbbf-4fa0-a11b-9c4e6275e223"
    }
   },
   "outputs": [
    {
     "data": {
      "text/plain": [
       "array([[1, 2, 3],\n",
       "       [6, 5, 4],\n",
       "       [7, 8, 9]])"
      ]
     },
     "execution_count": 72,
     "metadata": {},
     "output_type": "execute_result"
    }
   ],
   "source": [
    "mtrx[1,:] = [6, 5, 4]\n",
    "mtrx"
   ]
  },
  {
   "cell_type": "markdown",
   "metadata": {
    "nbpresent": {
     "id": "3e810ddf-c35f-4119-9886-3564bfad5c9d"
    }
   },
   "source": [
    "可以将整行或整列赋值为同一值:"
   ]
  },
  {
   "cell_type": "code",
   "execution_count": 73,
   "metadata": {
    "collapsed": false,
    "nbpresent": {
     "id": "07c356c0-d7b7-4116-95a8-e0d965d182bc"
    }
   },
   "outputs": [
    {
     "data": {
      "text/plain": [
       "array([[ 1, 99,  3],\n",
       "       [ 6, 99,  4],\n",
       "       [ 7, 99,  9]])"
      ]
     },
     "execution_count": 73,
     "metadata": {},
     "output_type": "execute_result"
    }
   ],
   "source": [
    "mtrx[:,1] = 99\n",
    "mtrx"
   ]
  },
  {
   "cell_type": "markdown",
   "metadata": {
    "nbpresent": {
     "id": "bc99149c-b9fc-44df-9bac-109ced81161e"
    }
   },
   "source": [
    "### 1.3.3 切片"
   ]
  },
  {
   "cell_type": "code",
   "execution_count": 74,
   "metadata": {
    "collapsed": false,
    "nbpresent": {
     "id": "320afd0d-7d5a-4c3f-91b8-03f3cf1b4b3c"
    }
   },
   "outputs": [],
   "source": [
    "vec = np.array([1,2,3,4,5])"
   ]
  },
  {
   "cell_type": "code",
   "execution_count": 75,
   "metadata": {
    "collapsed": false,
    "nbpresent": {
     "id": "45d4dd2d-f47a-439d-a3c1-983fe2a1e356"
    }
   },
   "outputs": [
    {
     "data": {
      "text/plain": [
       "array([1, 2, 3, 4, 5])"
      ]
     },
     "execution_count": 75,
     "metadata": {},
     "output_type": "execute_result"
    }
   ],
   "source": [
    "vec"
   ]
  },
  {
   "cell_type": "code",
   "execution_count": 76,
   "metadata": {
    "collapsed": false,
    "nbpresent": {
     "id": "e807faad-8e93-4a92-b64b-c9dd10db62aa"
    }
   },
   "outputs": [
    {
     "data": {
      "text/plain": [
       "array([2, 3])"
      ]
     },
     "execution_count": 76,
     "metadata": {},
     "output_type": "execute_result"
    }
   ],
   "source": [
    "vec[1:3]"
   ]
  },
  {
   "cell_type": "code",
   "execution_count": 77,
   "metadata": {
    "collapsed": false,
    "nbpresent": {
     "id": "08e940cf-1e91-4ebd-bb92-5105afea28a3"
    }
   },
   "outputs": [
    {
     "data": {
      "text/plain": [
       "array([1, 8, 7, 4, 5])"
      ]
     },
     "execution_count": 77,
     "metadata": {},
     "output_type": "execute_result"
    }
   ],
   "source": [
    "vec[1:3] = [8, 7]\n",
    "vec"
   ]
  },
  {
   "cell_type": "code",
   "execution_count": 78,
   "metadata": {
    "collapsed": false,
    "nbpresent": {
     "id": "f7864727-dfaf-499f-a0f8-1bde80fe7b0b"
    }
   },
   "outputs": [
    {
     "data": {
      "text/plain": [
       "array([1, 8, 7, 4, 5])"
      ]
     },
     "execution_count": 78,
     "metadata": {},
     "output_type": "execute_result"
    }
   ],
   "source": [
    "vec[0:5]"
   ]
  },
  {
   "cell_type": "code",
   "execution_count": 79,
   "metadata": {
    "collapsed": false,
    "nbpresent": {
     "id": "8d420fd0-9b1f-42b9-a0b4-71ce5dd140b1"
    }
   },
   "outputs": [
    {
     "data": {
      "text/plain": [
       "array([1, 8, 7])"
      ]
     },
     "execution_count": 79,
     "metadata": {},
     "output_type": "execute_result"
    }
   ],
   "source": [
    "vec[:3]"
   ]
  },
  {
   "cell_type": "code",
   "execution_count": 80,
   "metadata": {
    "collapsed": false,
    "nbpresent": {
     "id": "f2524458-a341-4485-880f-0400d2626711"
    }
   },
   "outputs": [
    {
     "data": {
      "text/plain": [
       "array([4, 5])"
      ]
     },
     "execution_count": 80,
     "metadata": {},
     "output_type": "execute_result"
    }
   ],
   "source": [
    "vec[3:]"
   ]
  },
  {
   "cell_type": "code",
   "execution_count": 81,
   "metadata": {
    "collapsed": false,
    "nbpresent": {
     "id": "ec2c3e1a-d7d6-4a6a-9e16-fbf10c18baa3"
    }
   },
   "outputs": [
    {
     "data": {
      "text/plain": [
       "array([1, 8, 7, 4, 5])"
      ]
     },
     "execution_count": 81,
     "metadata": {},
     "output_type": "execute_result"
    }
   ],
   "source": [
    "vec[:]"
   ]
  },
  {
   "cell_type": "code",
   "execution_count": 82,
   "metadata": {
    "collapsed": false,
    "nbpresent": {
     "id": "b918a79c-232c-4a37-8295-fe3df74541eb"
    }
   },
   "outputs": [
    {
     "data": {
      "text/plain": [
       "array([1, 8, 7, 4, 5])"
      ]
     },
     "execution_count": 82,
     "metadata": {},
     "output_type": "execute_result"
    }
   ],
   "source": [
    "vec[0:5:1]"
   ]
  },
  {
   "cell_type": "code",
   "execution_count": 83,
   "metadata": {
    "collapsed": false,
    "nbpresent": {
     "id": "3a3b633d-625c-4093-8d05-6bdaa9abecec"
    }
   },
   "outputs": [
    {
     "data": {
      "text/plain": [
       "array([1, 8, 7, 4, 5])"
      ]
     },
     "execution_count": 83,
     "metadata": {},
     "output_type": "execute_result"
    }
   ],
   "source": [
    "vec[::]"
   ]
  },
  {
   "cell_type": "code",
   "execution_count": 84,
   "metadata": {
    "collapsed": false,
    "nbpresent": {
     "id": "3ed1ddfa-432f-4fef-8778-5b444c233e6b"
    }
   },
   "outputs": [
    {
     "data": {
      "text/plain": [
       "array([1, 7, 5])"
      ]
     },
     "execution_count": 84,
     "metadata": {},
     "output_type": "execute_result"
    }
   ],
   "source": [
    "vec[::2]"
   ]
  },
  {
   "cell_type": "code",
   "execution_count": 85,
   "metadata": {
    "collapsed": false,
    "nbpresent": {
     "id": "d28bdcca-de04-4e33-adf5-2f40a44310c7"
    }
   },
   "outputs": [
    {
     "data": {
      "text/plain": [
       "array([8, 7, 4])"
      ]
     },
     "execution_count": 85,
     "metadata": {},
     "output_type": "execute_result"
    }
   ],
   "source": [
    "vec[1:4]"
   ]
  },
  {
   "cell_type": "code",
   "execution_count": 86,
   "metadata": {
    "collapsed": false,
    "nbpresent": {
     "id": "bdbc9f47-d981-44ad-b93d-aeaa27c5e548"
    }
   },
   "outputs": [
    {
     "data": {
      "text/plain": [
       "5"
      ]
     },
     "execution_count": 86,
     "metadata": {},
     "output_type": "execute_result"
    }
   ],
   "source": [
    "vec[-1]"
   ]
  },
  {
   "cell_type": "code",
   "execution_count": 87,
   "metadata": {
    "collapsed": false,
    "nbpresent": {
     "id": "01afb273-a50f-4dc3-a08a-de2bd4ca75d5"
    }
   },
   "outputs": [
    {
     "data": {
      "text/plain": [
       "array([4, 5])"
      ]
     },
     "execution_count": 87,
     "metadata": {},
     "output_type": "execute_result"
    }
   ],
   "source": [
    "vec[-2:]"
   ]
  },
  {
   "cell_type": "code",
   "execution_count": 88,
   "metadata": {
    "collapsed": false,
    "nbpresent": {
     "id": "6772485e-52a5-46f6-9d83-32ad8e6ed206"
    }
   },
   "outputs": [
    {
     "data": {
      "text/plain": [
       "array([[99],\n",
       "       [99]])"
      ]
     },
     "execution_count": 88,
     "metadata": {},
     "output_type": "execute_result"
    }
   ],
   "source": [
    "mtrx[::2,1::2]"
   ]
  },
  {
   "cell_type": "code",
   "execution_count": 89,
   "metadata": {
    "collapsed": false,
    "nbpresent": {
     "id": "f7493070-1a84-42fc-8c7b-79e82be50209"
    }
   },
   "outputs": [
    {
     "data": {
      "text/plain": [
       "array([[ 1,  2,  3,  4,  5],\n",
       "       [ 3,  4,  5,  6,  7],\n",
       "       [ 5,  6,  7,  8,  9],\n",
       "       [ 6,  7,  8,  9, 10]])"
      ]
     },
     "execution_count": 89,
     "metadata": {},
     "output_type": "execute_result"
    }
   ],
   "source": [
    "mtrx = np.array([[1,2,3,4,5], [3,4,5,6,7], [5,6,7,8,9], [6,7,8,9,10]])\n",
    "mtrx"
   ]
  },
  {
   "cell_type": "code",
   "execution_count": 90,
   "metadata": {
    "collapsed": false,
    "nbpresent": {
     "id": "45b1e422-abbc-4b48-a443-ad3c7a7fb3cb"
    }
   },
   "outputs": [
    {
     "data": {
      "text/plain": [
       "array([[ 3,  4,  5,  6,  7],\n",
       "       [ 5,  6,  7,  8,  9],\n",
       "       [ 6,  7,  8,  9, 10]])"
      ]
     },
     "execution_count": 90,
     "metadata": {},
     "output_type": "execute_result"
    }
   ],
   "source": [
    "mtrx[1:4]"
   ]
  },
  {
   "cell_type": "code",
   "execution_count": 91,
   "metadata": {
    "collapsed": false,
    "nbpresent": {
     "id": "d3bce0d7-9df1-4d49-a07a-a884b6624baf"
    }
   },
   "outputs": [
    {
     "data": {
      "text/plain": [
       "array([[ 3,  4,  5],\n",
       "       [ 5,  6,  7],\n",
       "       [ 7,  8,  9],\n",
       "       [ 8,  9, 10]])"
      ]
     },
     "execution_count": 91,
     "metadata": {},
     "output_type": "execute_result"
    }
   ],
   "source": [
    "mtrx[:,2:5]"
   ]
  },
  {
   "cell_type": "code",
   "execution_count": 92,
   "metadata": {
    "collapsed": false,
    "nbpresent": {
     "id": "e41b6c16-1543-454b-9bdd-8a810880c5b0"
    }
   },
   "outputs": [
    {
     "data": {
      "text/plain": [
       "array([[ 5,  6,  7],\n",
       "       [ 7,  8,  9],\n",
       "       [ 8,  9, 10]])"
      ]
     },
     "execution_count": 92,
     "metadata": {},
     "output_type": "execute_result"
    }
   ],
   "source": [
    "mtrx[1:4,2:5]"
   ]
  },
  {
   "cell_type": "code",
   "execution_count": 93,
   "metadata": {
    "collapsed": false,
    "nbpresent": {
     "id": "6005ffdb-b027-4f46-85c1-c2d49e500900"
    }
   },
   "outputs": [
    {
     "data": {
      "text/plain": [
       "array([[ 1,  2,  3,  4,  5],\n",
       "       [ 3,  4,  5,  6,  7],\n",
       "       [ 5,  6,  7,  8,  9],\n",
       "       [ 6,  7,  8,  9, 10]])"
      ]
     },
     "execution_count": 93,
     "metadata": {},
     "output_type": "execute_result"
    }
   ],
   "source": [
    "mtrx[:]"
   ]
  },
  {
   "cell_type": "markdown",
   "metadata": {
    "nbpresent": {
     "id": "0cc10e81-2224-4943-a4e3-70ad1599ffa7"
    }
   },
   "source": [
    "mtrx[:,:]"
   ]
  },
  {
   "cell_type": "code",
   "execution_count": 94,
   "metadata": {
    "collapsed": false,
    "nbpresent": {
     "id": "c61a2191-4e0a-4136-8a7c-74ec4813cba6"
    }
   },
   "outputs": [
    {
     "data": {
      "text/plain": [
       "array([[1, 2, 3, 4, 5],\n",
       "       [3, 4, 5, 6, 7]])"
      ]
     },
     "execution_count": 94,
     "metadata": {},
     "output_type": "execute_result"
    }
   ],
   "source": [
    "mtrx[:2]"
   ]
  },
  {
   "cell_type": "code",
   "execution_count": 95,
   "metadata": {
    "collapsed": false,
    "nbpresent": {
     "id": "84e7933c-86f0-4c77-a543-607eedf6f2f7"
    }
   },
   "outputs": [
    {
     "data": {
      "text/plain": [
       "array([[ 3,  4,  5],\n",
       "       [ 5,  6,  7],\n",
       "       [ 7,  8,  9],\n",
       "       [ 8,  9, 10]])"
      ]
     },
     "execution_count": 95,
     "metadata": {},
     "output_type": "execute_result"
    }
   ],
   "source": [
    "mtrx[:,2:]"
   ]
  },
  {
   "cell_type": "code",
   "execution_count": 96,
   "metadata": {
    "collapsed": false,
    "nbpresent": {
     "id": "b0cc2f54-5cdc-45b8-be84-df9236af60d5"
    }
   },
   "outputs": [
    {
     "data": {
      "text/plain": [
       "array([[3, 5, 7],\n",
       "       [5, 7, 9]])"
      ]
     },
     "execution_count": 96,
     "metadata": {},
     "output_type": "execute_result"
    }
   ],
   "source": [
    "mtrx[1:3,::2]"
   ]
  },
  {
   "cell_type": "code",
   "execution_count": 97,
   "metadata": {
    "collapsed": false,
    "nbpresent": {
     "id": "b26b9f80-d59a-4422-9562-f92a77839fbf"
    }
   },
   "outputs": [
    {
     "data": {
      "text/plain": [
       "array([[False,  True, False,  True, False],\n",
       "       [False,  True, False,  True, False],\n",
       "       [False,  True, False,  True, False],\n",
       "       [ True, False,  True, False,  True]], dtype=bool)"
      ]
     },
     "execution_count": 97,
     "metadata": {},
     "output_type": "execute_result"
    }
   ],
   "source": [
    "mask = (mtrx%2 == 0)\n",
    "mask"
   ]
  },
  {
   "cell_type": "code",
   "execution_count": 98,
   "metadata": {
    "collapsed": false,
    "nbpresent": {
     "id": "1c027e63-068a-4b1c-aacd-794ffa2cc61f"
    }
   },
   "outputs": [
    {
     "data": {
      "text/plain": [
       "array([ 2,  4,  4,  6,  6,  8,  6,  8, 10])"
      ]
     },
     "execution_count": 98,
     "metadata": {},
     "output_type": "execute_result"
    }
   ],
   "source": [
    "mtrx[mask]"
   ]
  },
  {
   "cell_type": "code",
   "execution_count": 99,
   "metadata": {
    "collapsed": false,
    "nbpresent": {
     "id": "ff4e01dd-64d8-4605-8156-cec618406a79"
    }
   },
   "outputs": [
    {
     "data": {
      "text/plain": [
       "(array([0, 0, 1, 1, 2, 2, 3, 3, 3]), array([1, 3, 1, 3, 1, 3, 0, 2, 4]))"
      ]
     },
     "execution_count": 99,
     "metadata": {},
     "output_type": "execute_result"
    }
   ],
   "source": [
    "np.where(mask)"
   ]
  },
  {
   "cell_type": "code",
   "execution_count": null,
   "metadata": {
    "collapsed": false,
    "nbpresent": {
     "id": "03bc5871-16c7-4d2f-8d7b-4e4735a5e4ae"
    }
   },
   "outputs": [],
   "source": []
  },
  {
   "cell_type": "code",
   "execution_count": null,
   "metadata": {
    "collapsed": true,
    "nbpresent": {
     "id": "c8a6aabb-14f6-4666-887b-75e4657da829"
    }
   },
   "outputs": [],
   "source": []
  }
 ],
 "metadata": {
  "anaconda-cloud": {},
  "kernelspec": {
   "display_name": "Python [conda env:Python3.5]",
   "language": "python",
   "name": "conda-env-Python3.5-py"
  },
  "language_info": {
   "codemirror_mode": {
    "name": "ipython",
    "version": 3
   },
   "file_extension": ".py",
   "mimetype": "text/x-python",
   "name": "python",
   "nbconvert_exporter": "python",
   "pygments_lexer": "ipython3",
   "version": "3.5.2"
  },
  "nbpresent": {
   "slides": {
    "00d72b7f-d241-4bf9-a934-a9660feaa6e0": {
     "id": "00d72b7f-d241-4bf9-a934-a9660feaa6e0",
     "prev": "d71306e2-4791-4bcf-9d50-415f8ed75a4e",
     "regions": {
      "97697112-69a1-4306-a282-3c06ad4224a5": {
       "attrs": {
        "height": 0.8,
        "width": 0.8,
        "x": 0.1,
        "y": 0.1
       },
       "content": {
        "cell": "ec810848-db06-40d2-a49a-668ce459cc3c",
        "part": "whole"
       },
       "id": "97697112-69a1-4306-a282-3c06ad4224a5"
      }
     }
    },
    "03891e71-3d39-4e52-827a-9304349c0458": {
     "id": "03891e71-3d39-4e52-827a-9304349c0458",
     "prev": "5392118e-1708-4790-87c0-af6da8016170",
     "regions": {
      "4a88846d-a927-4530-aa69-0a37f9546400": {
       "attrs": {
        "height": 0.8,
        "width": 0.8,
        "x": 0.1,
        "y": 0.1
       },
       "content": {
        "cell": "611d30ac-7d37-4722-8eff-3e28f57a53de",
        "part": "whole"
       },
       "id": "4a88846d-a927-4530-aa69-0a37f9546400"
      }
     }
    },
    "05a84587-a461-42e0-b429-4b9c03b05b79": {
     "id": "05a84587-a461-42e0-b429-4b9c03b05b79",
     "prev": "65818047-1188-4fa5-9a15-0f2b075e3752",
     "regions": {
      "2cb1f611-0c86-4f26-9ad5-74c494b5c452": {
       "attrs": {
        "height": 0.8,
        "width": 0.8,
        "x": 0.1,
        "y": 0.1
       },
       "content": {
        "cell": "a735c2b8-2bcf-447e-9dd5-688931c060ec",
        "part": "whole"
       },
       "id": "2cb1f611-0c86-4f26-9ad5-74c494b5c452"
      }
     }
    },
    "06885369-5ce3-4f10-9d19-094c40c66e71": {
     "id": "06885369-5ce3-4f10-9d19-094c40c66e71",
     "prev": "d3f84059-9ff6-413e-8440-0704fa8291b6",
     "regions": {
      "00b2e206-47cc-4a4f-9d54-cceb37fc6c87": {
       "attrs": {
        "height": 0.8,
        "width": 0.8,
        "x": 0.1,
        "y": 0.1
       },
       "content": {
        "cell": "8d420fd0-9b1f-42b9-a0b4-71ce5dd140b1",
        "part": "whole"
       },
       "id": "00b2e206-47cc-4a4f-9d54-cceb37fc6c87"
      }
     }
    },
    "073af249-bec1-4251-b92b-68e5406f08c4": {
     "id": "073af249-bec1-4251-b92b-68e5406f08c4",
     "prev": "cf665ebb-d13d-4c42-9f92-3c49d5b2052b",
     "regions": {
      "cce1818d-0e58-4481-8909-f6e10acf0acf": {
       "attrs": {
        "height": 0.8,
        "width": 0.8,
        "x": 0.1,
        "y": 0.1
       },
       "content": {
        "cell": "1c027e63-068a-4b1c-aacd-794ffa2cc61f",
        "part": "whole"
       },
       "id": "cce1818d-0e58-4481-8909-f6e10acf0acf"
      }
     }
    },
    "08ba0649-bb5f-400d-981f-052722a8bdfa": {
     "id": "08ba0649-bb5f-400d-981f-052722a8bdfa",
     "prev": "7c0551a8-12cd-4368-b5b3-fac18a94e992",
     "regions": {
      "cd0ada2d-45cc-47b7-b827-59614604d756": {
       "attrs": {
        "height": 0.8,
        "width": 0.8,
        "x": 0.1,
        "y": 0.1
       },
       "content": {
        "cell": "6772485e-52a5-46f6-9d83-32ad8e6ed206",
        "part": "whole"
       },
       "id": "cd0ada2d-45cc-47b7-b827-59614604d756"
      }
     }
    },
    "0aaaa0b2-5cd6-44a2-a22a-0cb1d32814e3": {
     "id": "0aaaa0b2-5cd6-44a2-a22a-0cb1d32814e3",
     "prev": "8cdf0ed9-bd77-4c1e-aaae-7dc46fb3d84b",
     "regions": {
      "bd3a05c2-e242-4de4-a4aa-a078f2733861": {
       "attrs": {
        "height": 0.8,
        "width": 0.8,
        "x": 0.1,
        "y": 0.1
       },
       "content": {
        "cell": "8ba3c31f-93bb-4aa5-bc42-39384df6f964",
        "part": "whole"
       },
       "id": "bd3a05c2-e242-4de4-a4aa-a078f2733861"
      }
     }
    },
    "0ab80d92-637c-459d-a2ed-c90365edf2fa": {
     "id": "0ab80d92-637c-459d-a2ed-c90365edf2fa",
     "prev": "1699bc76-6ba1-410a-b9c0-8b900fa735e5",
     "regions": {
      "b7e1ebd2-6c08-4a47-b262-5deba89b9284": {
       "attrs": {
        "height": 0.8,
        "width": 0.8,
        "x": 0.1,
        "y": 0.1
       },
       "content": {
        "cell": "8d92756e-2470-4fd6-9a3b-50314d747e55",
        "part": "whole"
       },
       "id": "b7e1ebd2-6c08-4a47-b262-5deba89b9284"
      }
     }
    },
    "0c1f0e36-c0cd-4c54-be97-d27b816db0be": {
     "id": "0c1f0e36-c0cd-4c54-be97-d27b816db0be",
     "prev": "b24e67da-dd45-43ba-94ed-9e22754065f1",
     "regions": {
      "b3a0a5e7-800d-4498-9d09-548ebf963940": {
       "attrs": {
        "height": 0.8,
        "width": 0.8,
        "x": 0.1,
        "y": 0.1
       },
       "content": {
        "cell": "4f02f033-a31d-49a5-b2dd-be894ebbf38f",
        "part": "whole"
       },
       "id": "b3a0a5e7-800d-4498-9d09-548ebf963940"
      }
     }
    },
    "0d0dc69f-7fe0-478d-a84d-4d7c33c6c682": {
     "id": "0d0dc69f-7fe0-478d-a84d-4d7c33c6c682",
     "prev": "92a1c9ff-1f09-42dd-a0f8-2587550b6598",
     "regions": {
      "590354a5-495f-432b-881f-f44e5e93daea": {
       "attrs": {
        "height": 0.8,
        "width": 0.8,
        "x": 0.1,
        "y": 0.1
       },
       "content": {
        "cell": "1177d780-4bcd-4d6f-a348-c1da402f131e",
        "part": "whole"
       },
       "id": "590354a5-495f-432b-881f-f44e5e93daea"
      }
     }
    },
    "0dceaf91-e554-4e30-a286-fecb2a84f5ad": {
     "id": "0dceaf91-e554-4e30-a286-fecb2a84f5ad",
     "prev": "ee31c68e-7947-4e54-a28b-6a9a42d723a6",
     "regions": {
      "af40a2c7-09ba-4cef-9a75-9f661b061105": {
       "attrs": {
        "height": 0.8,
        "width": 0.8,
        "x": 0.1,
        "y": 0.1
       },
       "content": {
        "cell": "671def43-2e54-4910-9cd6-f58be563563e",
        "part": "whole"
       },
       "id": "af40a2c7-09ba-4cef-9a75-9f661b061105"
      }
     }
    },
    "0e414e8e-1374-4a24-959f-40fec126e928": {
     "id": "0e414e8e-1374-4a24-959f-40fec126e928",
     "prev": "f6956222-1865-4719-b333-74472342d677",
     "regions": {
      "37c30dbf-6082-421a-b353-43b5b6040aa5": {
       "attrs": {
        "height": 0.8,
        "width": 0.8,
        "x": 0.1,
        "y": 0.1
       },
       "content": {
        "cell": "c8a6aabb-14f6-4666-887b-75e4657da829",
        "part": "whole"
       },
       "id": "37c30dbf-6082-421a-b353-43b5b6040aa5"
      }
     }
    },
    "0f9b7823-3080-4ef5-9a49-b331a530752e": {
     "id": "0f9b7823-3080-4ef5-9a49-b331a530752e",
     "prev": "0dceaf91-e554-4e30-a286-fecb2a84f5ad",
     "regions": {
      "e141af11-cfad-4453-b811-5f26619ad192": {
       "attrs": {
        "height": 0.8,
        "width": 0.8,
        "x": 0.1,
        "y": 0.1
       },
       "content": {
        "cell": "998e32b9-5bac-484d-bfcf-557a52d3e7f9",
        "part": "whole"
       },
       "id": "e141af11-cfad-4453-b811-5f26619ad192"
      }
     }
    },
    "1032966e-b223-461c-86e4-8c28b7264de8": {
     "id": "1032966e-b223-461c-86e4-8c28b7264de8",
     "prev": "db86c73f-03d4-4811-912a-89a06e9417e7",
     "regions": {
      "1ee2c0cd-c7b3-471e-bd4b-faf52567b145": {
       "attrs": {
        "height": 0.8,
        "width": 0.8,
        "x": 0.1,
        "y": 0.1
       },
       "content": {
        "cell": "2f5c2922-6435-444d-a000-8527c1d2ccc2",
        "part": "whole"
       },
       "id": "1ee2c0cd-c7b3-471e-bd4b-faf52567b145"
      }
     }
    },
    "10f99bee-2667-4a30-9afe-9ae53d472b94": {
     "id": "10f99bee-2667-4a30-9afe-9ae53d472b94",
     "prev": "d5027bca-d599-4722-8126-5366b1e2c3f8",
     "regions": {
      "544f5bed-f141-4ea9-8228-0394b5855cb7": {
       "attrs": {
        "height": 0.8,
        "width": 0.8,
        "x": 0.1,
        "y": 0.1
       },
       "content": {
        "cell": "a30d6dbe-b957-49e9-bbda-c9a497d336ec",
        "part": "whole"
       },
       "id": "544f5bed-f141-4ea9-8228-0394b5855cb7"
      }
     }
    },
    "15238471-80a7-499a-96d9-b3783bdf6a91": {
     "id": "15238471-80a7-499a-96d9-b3783bdf6a91",
     "prev": "aa124264-d34f-4e91-9d89-87aaa0cc6edb",
     "regions": {
      "be8f88c7-21bc-4552-ac29-1a87bb14d6e6": {
       "attrs": {
        "height": 0.8,
        "width": 0.8,
        "x": 0.1,
        "y": 0.1
       },
       "content": {
        "cell": "6ee985d6-2239-4139-8784-8abc293c3895",
        "part": "whole"
       },
       "id": "be8f88c7-21bc-4552-ac29-1a87bb14d6e6"
      }
     }
    },
    "1699bc76-6ba1-410a-b9c0-8b900fa735e5": {
     "id": "1699bc76-6ba1-410a-b9c0-8b900fa735e5",
     "prev": "c5e1c703-f455-4d3d-a7a1-f5f9d0ba6b6f",
     "regions": {
      "e3198c62-0f45-4460-884b-8359802c541a": {
       "attrs": {
        "height": 0.8,
        "width": 0.8,
        "x": 0.1,
        "y": 0.1
       },
       "content": {
        "cell": "d6311fb9-6598-4267-863c-ea24532f2633",
        "part": "whole"
       },
       "id": "e3198c62-0f45-4460-884b-8359802c541a"
      }
     }
    },
    "1716907c-488e-4853-9325-9a32c2909dba": {
     "id": "1716907c-488e-4853-9325-9a32c2909dba",
     "prev": "0c1f0e36-c0cd-4c54-be97-d27b816db0be",
     "regions": {
      "380b5779-5c3a-4439-a362-0f8971d55cfa": {
       "attrs": {
        "height": 0.8,
        "width": 0.8,
        "x": 0.1,
        "y": 0.1
       },
       "content": {
        "cell": "347df580-f9e1-4504-8bf4-d1d0a9ac1f88",
        "part": "whole"
       },
       "id": "380b5779-5c3a-4439-a362-0f8971d55cfa"
      }
     }
    },
    "1ba2bc64-e820-4211-9866-2f2b967ca353": {
     "id": "1ba2bc64-e820-4211-9866-2f2b967ca353",
     "prev": "cb1a0e8f-0e8f-47c3-8446-b65367cff54f",
     "regions": {
      "96dfffef-ddf9-4f30-9785-93b63ca2d992": {
       "attrs": {
        "height": 0.8,
        "width": 0.8,
        "x": 0.1,
        "y": 0.1
       },
       "content": {
        "cell": "85529621-2655-4ce9-b792-0bcefc064875",
        "part": "whole"
       },
       "id": "96dfffef-ddf9-4f30-9785-93b63ca2d992"
      }
     }
    },
    "1d2e9d35-5e10-4269-b03d-bfe21ce5ec58": {
     "id": "1d2e9d35-5e10-4269-b03d-bfe21ce5ec58",
     "prev": "0d0dc69f-7fe0-478d-a84d-4d7c33c6c682",
     "regions": {
      "b8fef13c-9dc6-45c5-bdff-530b23f18ffe": {
       "attrs": {
        "height": 0.8,
        "width": 0.8,
        "x": 0.1,
        "y": 0.1
       },
       "content": {
        "cell": "38765111-7b33-4595-b577-2f2edaabf7c6",
        "part": "whole"
       },
       "id": "b8fef13c-9dc6-45c5-bdff-530b23f18ffe"
      }
     }
    },
    "20295c9a-9188-467c-bfef-211073bd89c4": {
     "id": "20295c9a-9188-467c-bfef-211073bd89c4",
     "prev": "7001ff4b-2aaa-4b34-8bc9-037e34394764",
     "regions": {
      "211f493f-cfaa-4a97-8d09-04f78e1abac0": {
       "attrs": {
        "height": 0.8,
        "width": 0.8,
        "x": 0.1,
        "y": 0.1
       },
       "content": {
        "cell": "9ebb5068-7347-42b8-b7ce-409302c03ca8",
        "part": "whole"
       },
       "id": "211f493f-cfaa-4a97-8d09-04f78e1abac0"
      }
     }
    },
    "231ceeb4-b78c-4417-b6d1-e5a1e0012567": {
     "id": "231ceeb4-b78c-4417-b6d1-e5a1e0012567",
     "prev": "551c0b6a-9cc4-452a-81a6-ae5c7f10f23b",
     "regions": {
      "bd83be29-19cd-48b9-8180-e213c0da809d": {
       "attrs": {
        "height": 0.8,
        "width": 0.8,
        "x": 0.1,
        "y": 0.1
       },
       "content": {
        "cell": "0d106813-2024-41c0-9a36-0abe7fd75c37",
        "part": "whole"
       },
       "id": "bd83be29-19cd-48b9-8180-e213c0da809d"
      }
     }
    },
    "253d3680-a217-4361-97b0-972a6945b3ae": {
     "id": "253d3680-a217-4361-97b0-972a6945b3ae",
     "prev": "d2b3f176-290b-4e36-844f-08992698b1d4",
     "regions": {
      "a8060dcc-b457-4580-8419-b55e0a21189f": {
       "attrs": {
        "height": 0.8,
        "width": 0.8,
        "x": 0.1,
        "y": 0.1
       },
       "content": {
        "cell": "b0cc2f54-5cdc-45b8-be84-df9236af60d5",
        "part": "whole"
       },
       "id": "a8060dcc-b457-4580-8419-b55e0a21189f"
      }
     }
    },
    "276391ea-fb66-454c-b512-c78b93e6a562": {
     "id": "276391ea-fb66-454c-b512-c78b93e6a562",
     "prev": "a8da5761-7e04-4f65-9d4a-d1bf0a76ece0",
     "regions": {
      "f2e116d1-2774-4518-8cd1-ea03a97587bf": {
       "attrs": {
        "height": 0.8,
        "width": 0.8,
        "x": 0.1,
        "y": 0.1
       },
       "content": {
        "cell": "3a3b633d-625c-4093-8d05-6bdaa9abecec",
        "part": "whole"
       },
       "id": "f2e116d1-2774-4518-8cd1-ea03a97587bf"
      }
     }
    },
    "2afe4f11-b26e-4080-827a-5efa3312a718": {
     "id": "2afe4f11-b26e-4080-827a-5efa3312a718",
     "prev": "5a66fbbb-e97c-4117-a47b-f7e47582a31b",
     "regions": {
      "66f7516b-7c92-4e8b-820b-233c1885957e": {
       "attrs": {
        "height": 0.8,
        "width": 0.8,
        "x": 0.1,
        "y": 0.1
       },
       "content": {
        "cell": "dc3c07c3-69fa-4df5-827f-6317bd8812b2",
        "part": "whole"
       },
       "id": "66f7516b-7c92-4e8b-820b-233c1885957e"
      }
     }
    },
    "2e7ebdb0-e6e0-488e-b7f7-0341c8620baa": {
     "id": "2e7ebdb0-e6e0-488e-b7f7-0341c8620baa",
     "prev": "3949d45a-3b96-4dfc-be7f-c715525f7d39",
     "regions": {
      "6d7c7ac7-b8bd-4593-8736-75a6cde9c968": {
       "attrs": {
        "height": 0.8,
        "width": 0.8,
        "x": 0.1,
        "y": 0.1
       },
       "content": {
        "cell": "59ac3886-024d-4b30-b9dd-53191f55931d",
        "part": "whole"
       },
       "id": "6d7c7ac7-b8bd-4593-8736-75a6cde9c968"
      }
     }
    },
    "304fad80-c3d1-404f-bc37-20007421182a": {
     "id": "304fad80-c3d1-404f-bc37-20007421182a",
     "prev": "fe757450-b11c-453d-872a-5bf0dd9d2eaf",
     "regions": {
      "863433bc-4a0e-4a58-994c-587e9c425791": {
       "attrs": {
        "height": 0.8,
        "width": 0.8,
        "x": 0.1,
        "y": 0.1
       },
       "content": {
        "cell": "855afcf2-ee20-4197-97b5-68b2372a6d06",
        "part": "whole"
       },
       "id": "863433bc-4a0e-4a58-994c-587e9c425791"
      }
     }
    },
    "3057eac3-0669-420c-b95e-f884c9bfa85c": {
     "id": "3057eac3-0669-420c-b95e-f884c9bfa85c",
     "prev": "073af249-bec1-4251-b92b-68e5406f08c4",
     "regions": {
      "38ef98eb-a31b-4667-aa9c-b1db758f3e34": {
       "attrs": {
        "height": 0.8,
        "width": 0.8,
        "x": 0.1,
        "y": 0.1
       },
       "content": {
        "cell": "ff4e01dd-64d8-4605-8156-cec618406a79",
        "part": "whole"
       },
       "id": "38ef98eb-a31b-4667-aa9c-b1db758f3e34"
      }
     }
    },
    "324d6aaa-2b59-4fcf-a2cf-65cd06c2649d": {
     "id": "324d6aaa-2b59-4fcf-a2cf-65cd06c2649d",
     "prev": "d378cce4-1004-4ab0-afeb-5317619e767b",
     "regions": {
      "39a4a001-03b2-4f31-985f-41889ced73f2": {
       "attrs": {
        "height": 0.8,
        "width": 0.8,
        "x": 0.1,
        "y": 0.1
       },
       "content": {
        "cell": "5c407889-dd42-4e31-85e2-d257fd9b589a",
        "part": "whole"
       },
       "id": "39a4a001-03b2-4f31-985f-41889ced73f2"
      }
     }
    },
    "382075b0-2030-43b6-a521-2f515f799577": {
     "id": "382075b0-2030-43b6-a521-2f515f799577",
     "prev": "affa8abf-da21-4064-a07a-ac526972ac14",
     "regions": {
      "ad5c3432-bc33-46e7-805a-28d8f1ccbf53": {
       "attrs": {
        "height": 0.8,
        "width": 0.8,
        "x": 0.1,
        "y": 0.1
       },
       "content": {
        "cell": "483be06f-1262-4a7f-ab38-cb2c746b62d6",
        "part": "whole"
       },
       "id": "ad5c3432-bc33-46e7-805a-28d8f1ccbf53"
      }
     }
    },
    "3867a790-bf14-44d1-8f91-090378a8e05d": {
     "id": "3867a790-bf14-44d1-8f91-090378a8e05d",
     "prev": "7d9ed754-9131-4be5-a9a8-b553f984a767",
     "regions": {
      "ce5aea81-ed35-452b-b0da-61db9d5c6178": {
       "attrs": {
        "height": 0.8,
        "width": 0.8,
        "x": 0.1,
        "y": 0.1
       },
       "content": {
        "cell": "2985d6fe-dbbf-4fa0-a11b-9c4e6275e223",
        "part": "whole"
       },
       "id": "ce5aea81-ed35-452b-b0da-61db9d5c6178"
      }
     }
    },
    "3949d45a-3b96-4dfc-be7f-c715525f7d39": {
     "id": "3949d45a-3b96-4dfc-be7f-c715525f7d39",
     "prev": "03891e71-3d39-4e52-827a-9304349c0458",
     "regions": {
      "ed1b0249-51c3-4406-9a1b-7110a7bdfdf9": {
       "attrs": {
        "height": 0.8,
        "width": 0.8,
        "x": 0.1,
        "y": 0.1
       },
       "content": {
        "cell": "889dd19c-a039-4dbe-a5ab-33cf362be895",
        "part": "whole"
       },
       "id": "ed1b0249-51c3-4406-9a1b-7110a7bdfdf9"
      }
     }
    },
    "409ecd91-f92d-404e-b6fe-269b10c80185": {
     "id": "409ecd91-f92d-404e-b6fe-269b10c80185",
     "prev": "ad07a34e-94ac-49ae-9383-7fbacfb7749b",
     "regions": {
      "8d7ff68c-c3bf-4c55-9bce-f9675e3a58f7": {
       "attrs": {
        "height": 0.8,
        "width": 0.8,
        "x": 0.1,
        "y": 0.1
       },
       "content": {
        "cell": "5262859c-40df-4f6f-9d42-bf3654b0c2f5",
        "part": "whole"
       },
       "id": "8d7ff68c-c3bf-4c55-9bce-f9675e3a58f7"
      }
     }
    },
    "42337b29-e9c0-4c18-bcf2-2a34b17f47a7": {
     "id": "42337b29-e9c0-4c18-bcf2-2a34b17f47a7",
     "prev": "dde37dfc-64e3-43ba-8cf5-088f776c1755",
     "regions": {
      "b37c506b-5796-458c-83bd-d672990e4ccf": {
       "attrs": {
        "height": 0.8,
        "width": 0.8,
        "x": 0.1,
        "y": 0.1
       },
       "content": {
        "cell": "f2f12b4d-66d7-4b35-b9ec-225b00bb6db1",
        "part": "whole"
       },
       "id": "b37c506b-5796-458c-83bd-d672990e4ccf"
      }
     }
    },
    "45c5a8e1-99a2-4a77-83ed-daf7beb1d90c": {
     "id": "45c5a8e1-99a2-4a77-83ed-daf7beb1d90c",
     "prev": "8e0c74b5-3c45-4ddc-af75-f46302a52dd3",
     "regions": {
      "99f43ddb-772e-4b4e-b196-86abe26263dc": {
       "attrs": {
        "height": 0.8,
        "width": 0.8,
        "x": 0.1,
        "y": 0.1
       },
       "content": {
        "cell": "0cc10e81-2224-4943-a4e3-70ad1599ffa7",
        "part": "whole"
       },
       "id": "99f43ddb-772e-4b4e-b196-86abe26263dc"
      }
     }
    },
    "49329fa9-f5d1-4feb-8eec-951796be9360": {
     "id": "49329fa9-f5d1-4feb-8eec-951796be9360",
     "prev": "f4f883a0-067d-4866-9ae9-4f34b6a649aa",
     "regions": {
      "3650567d-6f16-4a52-a458-b9ff56d5e372": {
       "attrs": {
        "height": 0.8,
        "width": 0.8,
        "x": 0.1,
        "y": 0.1
       },
       "content": {
        "cell": "8da150fe-660b-4029-91ba-285fd44a17e0",
        "part": "whole"
       },
       "id": "3650567d-6f16-4a52-a458-b9ff56d5e372"
      }
     }
    },
    "497365d1-4d41-419a-b261-229164f95d37": {
     "id": "497365d1-4d41-419a-b261-229164f95d37",
     "prev": "bd9c2615-d4a2-4589-85cc-0ae4905d0bcb",
     "regions": {
      "5fbcc619-2055-4ff6-9fd4-f4e459043864": {
       "attrs": {
        "height": 0.8,
        "width": 0.8,
        "x": 0.1,
        "y": 0.1
       },
       "content": {
        "cell": "387b29c6-73ab-4ff1-a02f-b33f0c36d966",
        "part": "whole"
       },
       "id": "5fbcc619-2055-4ff6-9fd4-f4e459043864"
      }
     }
    },
    "4b8e8bfa-eefe-4efc-940e-d7bf16233760": {
     "id": "4b8e8bfa-eefe-4efc-940e-d7bf16233760",
     "prev": "8033c77a-8beb-4488-a05c-e0cea8c35a69",
     "regions": {
      "f59c4f28-2644-4221-bf41-cf1407d1a672": {
       "attrs": {
        "height": 0.8,
        "width": 0.8,
        "x": 0.1,
        "y": 0.1
       },
       "content": {
        "cell": "d8e65633-5166-45a0-9a14-0790bdb7b724",
        "part": "whole"
       },
       "id": "f59c4f28-2644-4221-bf41-cf1407d1a672"
      }
     }
    },
    "4bb24fab-ea9a-407b-9064-5795d99748b2": {
     "id": "4bb24fab-ea9a-407b-9064-5795d99748b2",
     "prev": "409ecd91-f92d-404e-b6fe-269b10c80185",
     "regions": {
      "29ade0f3-f085-47fd-98b0-39a2b5516cbe": {
       "attrs": {
        "height": 0.8,
        "width": 0.8,
        "x": 0.1,
        "y": 0.1
       },
       "content": {
        "cell": "8666fc4e-516e-412c-9d9a-aa2e58b8967b",
        "part": "whole"
       },
       "id": "29ade0f3-f085-47fd-98b0-39a2b5516cbe"
      }
     }
    },
    "4c278ec3-8aea-4c10-b258-903c6a0c24e8": {
     "id": "4c278ec3-8aea-4c10-b258-903c6a0c24e8",
     "prev": "0ab80d92-637c-459d-a2ed-c90365edf2fa",
     "regions": {
      "23b2fbc5-621c-4b29-b107-1b1dc4839a4f": {
       "attrs": {
        "height": 0.8,
        "width": 0.8,
        "x": 0.1,
        "y": 0.1
       },
       "content": {
        "cell": "14eb602c-ea5f-43e8-8f46-dfce979e9a30",
        "part": "whole"
       },
       "id": "23b2fbc5-621c-4b29-b107-1b1dc4839a4f"
      }
     }
    },
    "4cfc7b10-94f4-404e-b761-37eb5def896e": {
     "id": "4cfc7b10-94f4-404e-b761-37eb5def896e",
     "prev": "3867a790-bf14-44d1-8f91-090378a8e05d",
     "regions": {
      "5329cbae-8d1e-4660-bf10-a0946ec459df": {
       "attrs": {
        "height": 0.8,
        "width": 0.8,
        "x": 0.1,
        "y": 0.1
       },
       "content": {
        "cell": "3e810ddf-c35f-4119-9886-3564bfad5c9d",
        "part": "whole"
       },
       "id": "5329cbae-8d1e-4660-bf10-a0946ec459df"
      }
     }
    },
    "4d842884-4dfe-4745-bf59-292a06e16978": {
     "id": "4d842884-4dfe-4745-bf59-292a06e16978",
     "prev": "76dadb35-64f7-44bc-a9f5-f136affff875",
     "regions": {
      "4421510d-bec7-4c5f-9e09-61844d03b579": {
       "attrs": {
        "height": 0.8,
        "width": 0.8,
        "x": 0.1,
        "y": 0.1
       },
       "content": {
        "cell": "08e940cf-1e91-4ebd-bb92-5105afea28a3",
        "part": "whole"
       },
       "id": "4421510d-bec7-4c5f-9e09-61844d03b579"
      }
     }
    },
    "4f641b5a-419d-47af-af46-5c1f1f45dd08": {
     "id": "4f641b5a-419d-47af-af46-5c1f1f45dd08",
     "prev": "7df00b97-4bc2-48e0-8505-693c3ae88776",
     "regions": {
      "c3bc294b-3b06-400b-b9e9-762a512243a8": {
       "attrs": {
        "height": 0.8,
        "width": 0.8,
        "x": 0.1,
        "y": 0.1
       },
       "content": {
        "cell": "64b8f1d9-fd7a-47a8-bd2a-e49489dd3738",
        "part": "whole"
       },
       "id": "c3bc294b-3b06-400b-b9e9-762a512243a8"
      }
     }
    },
    "51f734dd-ddde-42bc-8611-5ebc6f3142c8": {
     "id": "51f734dd-ddde-42bc-8611-5ebc6f3142c8",
     "prev": "535675c7-ee6e-473b-803d-1d505bf420a1",
     "regions": {
      "b1395a8a-61e1-4efc-89e6-91dc8fdc38c6": {
       "attrs": {
        "height": 0.8,
        "width": 0.8,
        "x": 0.1,
        "y": 0.1
       },
       "content": {
        "cell": "f9f6fd90-22d0-4701-ac54-5f3f418ad074",
        "part": "whole"
       },
       "id": "b1395a8a-61e1-4efc-89e6-91dc8fdc38c6"
      }
     }
    },
    "535675c7-ee6e-473b-803d-1d505bf420a1": {
     "id": "535675c7-ee6e-473b-803d-1d505bf420a1",
     "prev": "ba26e06f-9c99-4514-b76d-b375d97715f7",
     "regions": {
      "6a89d5d4-e0c4-4817-815b-0fff08740d78": {
       "attrs": {
        "height": 0.8,
        "width": 0.8,
        "x": 0.1,
        "y": 0.1
       },
       "content": {
        "cell": "0acfa037-514a-4a89-84eb-c33fdf5425a8",
        "part": "whole"
       },
       "id": "6a89d5d4-e0c4-4817-815b-0fff08740d78"
      }
     }
    },
    "5392118e-1708-4790-87c0-af6da8016170": {
     "id": "5392118e-1708-4790-87c0-af6da8016170",
     "prev": "72ef9b26-efa3-40da-b65c-b12ed6718d64",
     "regions": {
      "3e8112dc-cf41-47ed-90f2-71d2ec505835": {
       "attrs": {
        "height": 0.8,
        "width": 0.8,
        "x": 0.1,
        "y": 0.1
       },
       "content": {
        "cell": "6872c4f5-242a-4614-9349-66b1e5fcbd35",
        "part": "whole"
       },
       "id": "3e8112dc-cf41-47ed-90f2-71d2ec505835"
      }
     }
    },
    "551c0b6a-9cc4-452a-81a6-ae5c7f10f23b": {
     "id": "551c0b6a-9cc4-452a-81a6-ae5c7f10f23b",
     "prev": "b6ecaec0-c119-4991-a2f3-2dda77d7f5b6",
     "regions": {
      "6a568f32-209c-49fa-b5a9-9ed274f9b517": {
       "attrs": {
        "height": 0.8,
        "width": 0.8,
        "x": 0.1,
        "y": 0.1
       },
       "content": {
        "cell": "a8b300d3-5888-473e-af64-18ad7619b12b",
        "part": "whole"
       },
       "id": "6a568f32-209c-49fa-b5a9-9ed274f9b517"
      }
     }
    },
    "551e380d-b716-4e44-8d54-4b4b2e2f0206": {
     "id": "551e380d-b716-4e44-8d54-4b4b2e2f0206",
     "prev": "15238471-80a7-499a-96d9-b3783bdf6a91",
     "regions": {
      "cfa5aff5-1d74-4644-83dd-d939256bc183": {
       "attrs": {
        "height": 0.8,
        "width": 0.8,
        "x": 0.1,
        "y": 0.1
       },
       "content": {
        "cell": "b423467b-9d9c-4db8-a38e-62a76b4113bb",
        "part": "whole"
       },
       "id": "cfa5aff5-1d74-4644-83dd-d939256bc183"
      }
     }
    },
    "59221a7e-58f2-4d50-9d07-521d4ff5e12e": {
     "id": "59221a7e-58f2-4d50-9d07-521d4ff5e12e",
     "prev": "66111664-0120-46ac-b10f-d4bc563b37dd",
     "regions": {
      "0f8dde7c-8499-4286-b6b7-b5d2003b6b63": {
       "attrs": {
        "height": 0.8,
        "width": 0.8,
        "x": 0.1,
        "y": 0.1
       },
       "content": {
        "cell": "3f7ebadd-5b9e-43cc-b3d5-41afc82d2d94",
        "part": "whole"
       },
       "id": "0f8dde7c-8499-4286-b6b7-b5d2003b6b63"
      }
     }
    },
    "596b1511-5a44-43de-b07e-c76460ad99b6": {
     "id": "596b1511-5a44-43de-b07e-c76460ad99b6",
     "prev": "7ab45c9b-18fb-43c0-b8b8-7d8a9f8e685d",
     "regions": {
      "139334d3-a1e5-454f-9845-2c298368d7b0": {
       "attrs": {
        "height": 0.8,
        "width": 0.8,
        "x": 0.1,
        "y": 0.1
       },
       "content": {
        "cell": "0b33f4e7-50c9-4c81-8791-c2ef58facab2",
        "part": "whole"
       },
       "id": "139334d3-a1e5-454f-9845-2c298368d7b0"
      }
     }
    },
    "5a66fbbb-e97c-4117-a47b-f7e47582a31b": {
     "id": "5a66fbbb-e97c-4117-a47b-f7e47582a31b",
     "prev": "68518e4e-22dc-4523-9be2-5cb8a265dcf1",
     "regions": {
      "12a938a6-1dc8-49c8-b497-f8aabd1333ba": {
       "attrs": {
        "height": 0.8,
        "width": 0.8,
        "x": 0.1,
        "y": 0.1
       },
       "content": {
        "cell": "ce7ca54f-4fb4-43cb-93ca-3e588ce03732",
        "part": "whole"
       },
       "id": "12a938a6-1dc8-49c8-b497-f8aabd1333ba"
      }
     }
    },
    "5d9644e9-6e31-414f-8645-7d48ce02005c": {
     "id": "5d9644e9-6e31-414f-8645-7d48ce02005c",
     "prev": "0aaaa0b2-5cd6-44a2-a22a-0cb1d32814e3",
     "regions": {
      "862bc327-789d-4323-a553-1cc0be078b40": {
       "attrs": {
        "height": 0.8,
        "width": 0.8,
        "x": 0.1,
        "y": 0.1
       },
       "content": {
        "cell": "9bc8a79e-7d5f-4079-b8fe-d0367b19d1c2",
        "part": "whole"
       },
       "id": "862bc327-789d-4323-a553-1cc0be078b40"
      }
     }
    },
    "5ee60dda-1446-46bb-8cdc-1b888e51b5a9": {
     "id": "5ee60dda-1446-46bb-8cdc-1b888e51b5a9",
     "prev": "995ebc79-5b37-4158-9374-4bd740383848",
     "regions": {
      "74e8c7c4-fde0-4d02-96bf-cce9d7e5d4f6": {
       "attrs": {
        "height": 0.8,
        "width": 0.8,
        "x": 0.1,
        "y": 0.1
       },
       "content": {
        "cell": "06329013-ddba-44db-9f34-a21afa84ec1e",
        "part": "whole"
       },
       "id": "74e8c7c4-fde0-4d02-96bf-cce9d7e5d4f6"
      }
     }
    },
    "6100a783-26fe-417a-b602-b8c041748a94": {
     "id": "6100a783-26fe-417a-b602-b8c041748a94",
     "prev": "ec0db5e3-b285-4324-bfe1-d7b9ef7607ce",
     "regions": {
      "6906d3e8-69b3-4b1d-8e34-f1c91879ad12": {
       "attrs": {
        "height": 0.8,
        "width": 0.8,
        "x": 0.1,
        "y": 0.1
       },
       "content": {
        "cell": "ecec6ad5-badc-4615-8678-727caab38842",
        "part": "whole"
       },
       "id": "6906d3e8-69b3-4b1d-8e34-f1c91879ad12"
      }
     }
    },
    "65818047-1188-4fa5-9a15-0f2b075e3752": {
     "id": "65818047-1188-4fa5-9a15-0f2b075e3752",
     "prev": "8f4b683e-cca6-4237-a828-6579fc43175d",
     "regions": {
      "fef92231-ec8e-4933-87cc-71009a72d2f7": {
       "attrs": {
        "height": 0.8,
        "width": 0.8,
        "x": 0.1,
        "y": 0.1
       },
       "content": {
        "cell": "458569c4-f581-4fe5-a10b-a3b23d1114ec",
        "part": "whole"
       },
       "id": "fef92231-ec8e-4933-87cc-71009a72d2f7"
      }
     }
    },
    "65a0b3d9-9ebc-4628-9769-c9ea237c5356": {
     "id": "65a0b3d9-9ebc-4628-9769-c9ea237c5356",
     "prev": "896d28eb-f231-4418-b8c4-71003a40e609",
     "regions": {
      "ce312932-cc94-4693-8529-e8355a9dc7ae": {
       "attrs": {
        "height": 0.8,
        "width": 0.8,
        "x": 0.1,
        "y": 0.1
       },
       "content": {
        "cell": "dab8ecb9-82e6-4ad0-8799-8f2af6b7fab6",
        "part": "whole"
       },
       "id": "ce312932-cc94-4693-8529-e8355a9dc7ae"
      }
     }
    },
    "66111664-0120-46ac-b10f-d4bc563b37dd": {
     "id": "66111664-0120-46ac-b10f-d4bc563b37dd",
     "prev": "ee360be9-f143-4a93-b417-a32956995ec3",
     "regions": {
      "76151d19-3fb0-438d-b755-4e8ea3c1ea5b": {
       "attrs": {
        "height": 0.8,
        "width": 0.8,
        "x": 0.1,
        "y": 0.1
       },
       "content": {
        "cell": "9a233c3f-eaec-45ee-979c-9a2263d39b20",
        "part": "whole"
       },
       "id": "76151d19-3fb0-438d-b755-4e8ea3c1ea5b"
      }
     }
    },
    "68518e4e-22dc-4523-9be2-5cb8a265dcf1": {
     "id": "68518e4e-22dc-4523-9be2-5cb8a265dcf1",
     "prev": "65a0b3d9-9ebc-4628-9769-c9ea237c5356",
     "regions": {
      "9ed29a82-d485-4dc5-95e8-436c81bfc5ea": {
       "attrs": {
        "height": 0.8,
        "width": 0.8,
        "x": 0.1,
        "y": 0.1
       },
       "content": {
        "cell": "5bc3b904-9fd5-454b-89fe-d39d93767cac",
        "part": "whole"
       },
       "id": "9ed29a82-d485-4dc5-95e8-436c81bfc5ea"
      }
     }
    },
    "692f69ce-10c7-4aab-917c-bf88861572f0": {
     "id": "692f69ce-10c7-4aab-917c-bf88861572f0",
     "prev": null,
     "regions": {
      "90ce2081-d6fb-482c-a6d8-eb6344af241c": {
       "attrs": {
        "height": 0.8,
        "width": 0.8,
        "x": 0.1,
        "y": 0.1
       },
       "content": {
        "cell": "77a89ef4-2bac-4d44-afd2-cc8c846b5328",
        "part": "whole"
       },
       "id": "90ce2081-d6fb-482c-a6d8-eb6344af241c"
      }
     }
    },
    "6ef4e950-cb48-4dd1-ac64-8d0699f6b984": {
     "id": "6ef4e950-cb48-4dd1-ac64-8d0699f6b984",
     "prev": "c7fc6f50-cd42-48be-a379-d7380c356150",
     "regions": {
      "ba14ecd4-5a85-498d-8b3e-7738345fd397": {
       "attrs": {
        "height": 0.8,
        "width": 0.8,
        "x": 0.1,
        "y": 0.1
       },
       "content": {
        "cell": "3481e996-eccd-4f7c-91a6-afb517051404",
        "part": "whole"
       },
       "id": "ba14ecd4-5a85-498d-8b3e-7738345fd397"
      }
     }
    },
    "6f8797bb-866b-457c-8a9c-6382cfc9f90d": {
     "id": "6f8797bb-866b-457c-8a9c-6382cfc9f90d",
     "prev": "6ef4e950-cb48-4dd1-ac64-8d0699f6b984",
     "regions": {
      "3dcb0fde-814a-46f7-8723-d0dc58fe16fd": {
       "attrs": {
        "height": 0.8,
        "width": 0.8,
        "x": 0.1,
        "y": 0.1
       },
       "content": {
        "cell": "1e4e151d-2104-43da-923a-e42a8a12720b",
        "part": "whole"
       },
       "id": "3dcb0fde-814a-46f7-8723-d0dc58fe16fd"
      }
     }
    },
    "7001ff4b-2aaa-4b34-8bc9-037e34394764": {
     "id": "7001ff4b-2aaa-4b34-8bc9-037e34394764",
     "prev": "10f99bee-2667-4a30-9afe-9ae53d472b94",
     "regions": {
      "dd2fd56d-2e10-4d87-881b-e6259db358c4": {
       "attrs": {
        "height": 0.8,
        "width": 0.8,
        "x": 0.1,
        "y": 0.1
       },
       "content": {
        "cell": "ee0a2918-9e5e-4944-9150-60d068dc3e5e",
        "part": "whole"
       },
       "id": "dd2fd56d-2e10-4d87-881b-e6259db358c4"
      }
     }
    },
    "72ef9b26-efa3-40da-b65c-b12ed6718d64": {
     "id": "72ef9b26-efa3-40da-b65c-b12ed6718d64",
     "prev": "f45a7ac2-a7bb-4582-8efa-4b4650e4e9cc",
     "regions": {
      "0b8d289a-1153-4145-8de6-e94c926c16e5": {
       "attrs": {
        "height": 0.8,
        "width": 0.8,
        "x": 0.1,
        "y": 0.1
       },
       "content": {
        "cell": "b5b93b96-1b2a-4440-b3ec-4ffea338ad08",
        "part": "whole"
       },
       "id": "0b8d289a-1153-4145-8de6-e94c926c16e5"
      }
     }
    },
    "76aad7ed-f2cc-46ff-8bd0-17947b916773": {
     "id": "76aad7ed-f2cc-46ff-8bd0-17947b916773",
     "prev": "b7166b6b-74ca-40f6-bcbf-3cf9320ded72",
     "regions": {
      "6a4e2f6d-ecad-4a5e-abfb-db60a3aa31b3": {
       "attrs": {
        "height": 0.8,
        "width": 0.8,
        "x": 0.1,
        "y": 0.1
       },
       "content": {
        "cell": "e41b6c16-1543-454b-9bdd-8a810880c5b0",
        "part": "whole"
       },
       "id": "6a4e2f6d-ecad-4a5e-abfb-db60a3aa31b3"
      }
     }
    },
    "76dadb35-64f7-44bc-a9f5-f136affff875": {
     "id": "76dadb35-64f7-44bc-a9f5-f136affff875",
     "prev": "a6d11051-c690-4639-a456-2a3ca642f535",
     "regions": {
      "f856f735-8e88-419d-8a31-d33c532207e2": {
       "attrs": {
        "height": 0.8,
        "width": 0.8,
        "x": 0.1,
        "y": 0.1
       },
       "content": {
        "cell": "e807faad-8e93-4a92-b64b-c9dd10db62aa",
        "part": "whole"
       },
       "id": "f856f735-8e88-419d-8a31-d33c532207e2"
      }
     }
    },
    "7a2dd88d-e4c7-4359-a601-00bd15c4730a": {
     "id": "7a2dd88d-e4c7-4359-a601-00bd15c4730a",
     "prev": "4cfc7b10-94f4-404e-b761-37eb5def896e",
     "regions": {
      "fa2cd215-9e32-47dd-8c72-72f88d25aa8c": {
       "attrs": {
        "height": 0.8,
        "width": 0.8,
        "x": 0.1,
        "y": 0.1
       },
       "content": {
        "cell": "07c356c0-d7b7-4116-95a8-e0d965d182bc",
        "part": "whole"
       },
       "id": "fa2cd215-9e32-47dd-8c72-72f88d25aa8c"
      }
     }
    },
    "7ab45c9b-18fb-43c0-b8b8-7d8a9f8e685d": {
     "id": "7ab45c9b-18fb-43c0-b8b8-7d8a9f8e685d",
     "prev": "1716907c-488e-4853-9325-9a32c2909dba",
     "regions": {
      "351d7c95-5cd4-4267-bb2d-98c50edbbcc3": {
       "attrs": {
        "height": 0.8,
        "width": 0.8,
        "x": 0.1,
        "y": 0.1
       },
       "content": {
        "cell": "5c8a02af-b534-4f5b-acae-0f555f1bcf6e",
        "part": "whole"
       },
       "id": "351d7c95-5cd4-4267-bb2d-98c50edbbcc3"
      }
     }
    },
    "7c0551a8-12cd-4368-b5b3-fac18a94e992": {
     "id": "7c0551a8-12cd-4368-b5b3-fac18a94e992",
     "prev": "98cbca2e-f0fb-4e4c-b424-f84b1c52ca0f",
     "regions": {
      "f66bdd74-635d-4270-b86d-5a7e6497e970": {
       "attrs": {
        "height": 0.8,
        "width": 0.8,
        "x": 0.1,
        "y": 0.1
       },
       "content": {
        "cell": "01afb273-a50f-4dc3-a08a-de2bd4ca75d5",
        "part": "whole"
       },
       "id": "f66bdd74-635d-4270-b86d-5a7e6497e970"
      }
     }
    },
    "7d9ed754-9131-4be5-a9a8-b553f984a767": {
     "id": "7d9ed754-9131-4be5-a9a8-b553f984a767",
     "prev": "6f8797bb-866b-457c-8a9c-6382cfc9f90d",
     "regions": {
      "1dc6904e-7d4e-4021-8b11-0fdeeb0f184c": {
       "attrs": {
        "height": 0.8,
        "width": 0.8,
        "x": 0.1,
        "y": 0.1
       },
       "content": {
        "cell": "1a1de24a-9b6e-4b7e-b2bd-e7dbb7e1f9fa",
        "part": "whole"
       },
       "id": "1dc6904e-7d4e-4021-8b11-0fdeeb0f184c"
      }
     }
    },
    "7df00b97-4bc2-48e0-8505-693c3ae88776": {
     "id": "7df00b97-4bc2-48e0-8505-693c3ae88776",
     "prev": "59221a7e-58f2-4d50-9d07-521d4ff5e12e",
     "regions": {
      "d591a739-8e58-4aea-ac16-a029702c4d63": {
       "attrs": {
        "height": 0.8,
        "width": 0.8,
        "x": 0.1,
        "y": 0.1
       },
       "content": {
        "cell": "afe82425-0364-4ce0-9582-f08b4e254b3a",
        "part": "whole"
       },
       "id": "d591a739-8e58-4aea-ac16-a029702c4d63"
      }
     }
    },
    "8033c77a-8beb-4488-a05c-e0cea8c35a69": {
     "id": "8033c77a-8beb-4488-a05c-e0cea8c35a69",
     "prev": "9fc33cbd-9e4a-470a-82ef-062acf8e5ff5",
     "regions": {
      "5675cdb7-5ef2-4dd4-9d22-38d03f139910": {
       "attrs": {
        "height": 0.8,
        "width": 0.8,
        "x": 0.1,
        "y": 0.1
       },
       "content": {
        "cell": "1ea0d949-fa7a-4a37-b3de-d7f1ec2ddf77",
        "part": "whole"
       },
       "id": "5675cdb7-5ef2-4dd4-9d22-38d03f139910"
      }
     }
    },
    "85f6662e-b7f1-498a-84a4-03020e21d21a": {
     "id": "85f6662e-b7f1-498a-84a4-03020e21d21a",
     "prev": "5d9644e9-6e31-414f-8645-7d48ce02005c",
     "regions": {
      "870fb99d-a2c4-45ad-8e39-6271de5e837b": {
       "attrs": {
        "height": 0.8,
        "width": 0.8,
        "x": 0.1,
        "y": 0.1
       },
       "content": {
        "cell": "68a2fa6e-c6ed-4016-8445-ad18e4373335",
        "part": "whole"
       },
       "id": "870fb99d-a2c4-45ad-8e39-6271de5e837b"
      }
     }
    },
    "896d28eb-f231-4418-b8c4-71003a40e609": {
     "id": "896d28eb-f231-4418-b8c4-71003a40e609",
     "prev": "4c278ec3-8aea-4c10-b258-903c6a0c24e8",
     "regions": {
      "d56e16bb-b36d-4624-a105-835768d16eba": {
       "attrs": {
        "height": 0.8,
        "width": 0.8,
        "x": 0.1,
        "y": 0.1
       },
       "content": {
        "cell": "b936cffb-3aa7-4200-8b60-a8cb1bff256b",
        "part": "whole"
       },
       "id": "d56e16bb-b36d-4624-a105-835768d16eba"
      }
     }
    },
    "8cdf0ed9-bd77-4c1e-aaae-7dc46fb3d84b": {
     "id": "8cdf0ed9-bd77-4c1e-aaae-7dc46fb3d84b",
     "prev": "304fad80-c3d1-404f-bc37-20007421182a",
     "regions": {
      "c52444dc-58b3-441e-b9ad-c4be6a7cdcea": {
       "attrs": {
        "height": 0.8,
        "width": 0.8,
        "x": 0.1,
        "y": 0.1
       },
       "content": {
        "cell": "84bf7f22-2109-4e0d-bd04-3cb80e6343ac",
        "part": "whole"
       },
       "id": "c52444dc-58b3-441e-b9ad-c4be6a7cdcea"
      }
     }
    },
    "8e0c74b5-3c45-4ddc-af75-f46302a52dd3": {
     "id": "8e0c74b5-3c45-4ddc-af75-f46302a52dd3",
     "prev": "76aad7ed-f2cc-46ff-8bd0-17947b916773",
     "regions": {
      "3fc03225-e52d-4247-add0-414b2eb44d3c": {
       "attrs": {
        "height": 0.8,
        "width": 0.8,
        "x": 0.1,
        "y": 0.1
       },
       "content": {
        "cell": "6005ffdb-b027-4f46-85c1-c2d49e500900",
        "part": "whole"
       },
       "id": "3fc03225-e52d-4247-add0-414b2eb44d3c"
      }
     }
    },
    "8e6bdedb-8217-4d1e-be51-7705e2d0f709": {
     "id": "8e6bdedb-8217-4d1e-be51-7705e2d0f709",
     "prev": "95e68b85-d3d5-4c2a-8c87-f8ce40982a70",
     "regions": {
      "e742c1d6-6f1b-4d86-95be-a8e3de99e76c": {
       "attrs": {
        "height": 0.8,
        "width": 0.8,
        "x": 0.1,
        "y": 0.1
       },
       "content": {
        "cell": "d28bdcca-de04-4e33-adf5-2f40a44310c7",
        "part": "whole"
       },
       "id": "e742c1d6-6f1b-4d86-95be-a8e3de99e76c"
      }
     }
    },
    "8f4b683e-cca6-4237-a828-6579fc43175d": {
     "id": "8f4b683e-cca6-4237-a828-6579fc43175d",
     "prev": "4f641b5a-419d-47af-af46-5c1f1f45dd08",
     "regions": {
      "70063572-7133-4fd1-a5ee-2a2950bc519c": {
       "attrs": {
        "height": 0.8,
        "width": 0.8,
        "x": 0.1,
        "y": 0.1
       },
       "content": {
        "cell": "5be0b1c9-ae61-4986-a234-be07f8660b7d",
        "part": "whole"
       },
       "id": "70063572-7133-4fd1-a5ee-2a2950bc519c"
      }
     }
    },
    "92a1c9ff-1f09-42dd-a0f8-2587550b6598": {
     "id": "92a1c9ff-1f09-42dd-a0f8-2587550b6598",
     "prev": "4bb24fab-ea9a-407b-9064-5795d99748b2",
     "regions": {
      "7d9d8cd0-fb0e-4215-8273-b767f9b6ed5c": {
       "attrs": {
        "height": 0.8,
        "width": 0.8,
        "x": 0.1,
        "y": 0.1
       },
       "content": {
        "cell": "a583e8e4-b7c5-4b83-b27c-213336d7db8c",
        "part": "whole"
       },
       "id": "7d9d8cd0-fb0e-4215-8273-b767f9b6ed5c"
      }
     }
    },
    "95d5f4e7-4fa6-429a-97be-10f49f624a92": {
     "id": "95d5f4e7-4fa6-429a-97be-10f49f624a92",
     "prev": "d1f39927-0fa4-459f-b66d-894bef6a6a04",
     "regions": {
      "81aa6b1d-4fa0-4688-9025-ef55f5b237ed": {
       "attrs": {
        "height": 0.8,
        "width": 0.8,
        "x": 0.1,
        "y": 0.1
       },
       "content": {
        "cell": "320afd0d-7d5a-4c3f-91b8-03f3cf1b4b3c",
        "part": "whole"
       },
       "id": "81aa6b1d-4fa0-4688-9025-ef55f5b237ed"
      }
     }
    },
    "95e68b85-d3d5-4c2a-8c87-f8ce40982a70": {
     "id": "95e68b85-d3d5-4c2a-8c87-f8ce40982a70",
     "prev": "276391ea-fb66-454c-b512-c78b93e6a562",
     "regions": {
      "258e16f7-2da7-4486-a4ce-cea8af010d06": {
       "attrs": {
        "height": 0.8,
        "width": 0.8,
        "x": 0.1,
        "y": 0.1
       },
       "content": {
        "cell": "3ed1ddfa-432f-4fef-8778-5b444c233e6b",
        "part": "whole"
       },
       "id": "258e16f7-2da7-4486-a4ce-cea8af010d06"
      }
     }
    },
    "98cbca2e-f0fb-4e4c-b424-f84b1c52ca0f": {
     "id": "98cbca2e-f0fb-4e4c-b424-f84b1c52ca0f",
     "prev": "8e6bdedb-8217-4d1e-be51-7705e2d0f709",
     "regions": {
      "e91fe6ca-82c1-4e30-9752-5331f3055b6b": {
       "attrs": {
        "height": 0.8,
        "width": 0.8,
        "x": 0.1,
        "y": 0.1
       },
       "content": {
        "cell": "bdbc9f47-d981-44ad-b93d-aeaa27c5e548",
        "part": "whole"
       },
       "id": "e91fe6ca-82c1-4e30-9752-5331f3055b6b"
      }
     }
    },
    "99050bce-efa6-4846-9a1e-760df318df25": {
     "id": "99050bce-efa6-4846-9a1e-760df318df25",
     "prev": "f08c5e65-f72e-42a7-b5ec-d8addaf604c7",
     "regions": {
      "466f4e60-2cb1-485d-850c-6de60319ac0a": {
       "attrs": {
        "height": 0.8,
        "width": 0.8,
        "x": 0.1,
        "y": 0.1
       },
       "content": {
        "cell": "d7c06c8e-43a3-4217-b023-6b50f4510207",
        "part": "whole"
       },
       "id": "466f4e60-2cb1-485d-850c-6de60319ac0a"
      }
     }
    },
    "995ebc79-5b37-4158-9374-4bd740383848": {
     "id": "995ebc79-5b37-4158-9374-4bd740383848",
     "prev": "231ceeb4-b78c-4417-b6d1-e5a1e0012567",
     "regions": {
      "4e766413-0ca8-4118-b56c-20f6994f4ef6": {
       "attrs": {
        "height": 0.8,
        "width": 0.8,
        "x": 0.1,
        "y": 0.1
       },
       "content": {
        "cell": "c397d013-6cf8-416d-97af-c44b881c5d60",
        "part": "whole"
       },
       "id": "4e766413-0ca8-4118-b56c-20f6994f4ef6"
      }
     }
    },
    "9fc33cbd-9e4a-470a-82ef-062acf8e5ff5": {
     "id": "9fc33cbd-9e4a-470a-82ef-062acf8e5ff5",
     "prev": "d151c0eb-8fbf-4193-9199-eaf2ae9b8e14",
     "regions": {
      "501b65f1-ee81-45d3-8371-1eb6ff8db957": {
       "attrs": {
        "height": 0.8,
        "width": 0.8,
        "x": 0.1,
        "y": 0.1
       },
       "content": {
        "cell": "8bb6b366-f81e-422f-a4ff-d5dcb289913a",
        "part": "whole"
       },
       "id": "501b65f1-ee81-45d3-8371-1eb6ff8db957"
      }
     }
    },
    "a0dd02c0-9046-434e-b62f-9438a337538c": {
     "id": "a0dd02c0-9046-434e-b62f-9438a337538c",
     "prev": "acefea85-3d6d-46c8-94f5-6f0fd09e3262",
     "regions": {
      "41f8b55d-12e3-42a9-be5c-f2beaf2ab187": {
       "attrs": {
        "height": 0.8,
        "width": 0.8,
        "x": 0.1,
        "y": 0.1
       },
       "content": {
        "cell": "b7ba0488-ae22-49bd-8906-3040dc56dff5",
        "part": "whole"
       },
       "id": "41f8b55d-12e3-42a9-be5c-f2beaf2ab187"
      }
     }
    },
    "a6923e8e-fa39-436f-acec-11e3fc126f58": {
     "id": "a6923e8e-fa39-436f-acec-11e3fc126f58",
     "prev": "85f6662e-b7f1-498a-84a4-03020e21d21a",
     "regions": {
      "788607df-6bb6-427d-9f79-fbcc1f8a51b8": {
       "attrs": {
        "height": 0.8,
        "width": 0.8,
        "x": 0.1,
        "y": 0.1
       },
       "content": {
        "cell": "025cb860-5311-4cdd-aeb8-d516667cb79b",
        "part": "whole"
       },
       "id": "788607df-6bb6-427d-9f79-fbcc1f8a51b8"
      }
     }
    },
    "a6d11051-c690-4639-a456-2a3ca642f535": {
     "id": "a6d11051-c690-4639-a456-2a3ca642f535",
     "prev": "95d5f4e7-4fa6-429a-97be-10f49f624a92",
     "regions": {
      "b6fd60b4-9d85-4179-a319-ac7c1fe309d3": {
       "attrs": {
        "height": 0.8,
        "width": 0.8,
        "x": 0.1,
        "y": 0.1
       },
       "content": {
        "cell": "45d4dd2d-f47a-439d-a3c1-983fe2a1e356",
        "part": "whole"
       },
       "id": "b6fd60b4-9d85-4179-a319-ac7c1fe309d3"
      }
     }
    },
    "a8da5761-7e04-4f65-9d4a-d1bf0a76ece0": {
     "id": "a8da5761-7e04-4f65-9d4a-d1bf0a76ece0",
     "prev": "ddaf5254-5eac-42c1-b722-9efeac8d35f0",
     "regions": {
      "ce352816-7f3f-4324-9bfb-0a0c672ab1e4": {
       "attrs": {
        "height": 0.8,
        "width": 0.8,
        "x": 0.1,
        "y": 0.1
       },
       "content": {
        "cell": "b918a79c-232c-4a37-8295-fe3df74541eb",
        "part": "whole"
       },
       "id": "ce352816-7f3f-4324-9bfb-0a0c672ab1e4"
      }
     }
    },
    "a9572261-1653-47db-a834-43907d31fd77": {
     "id": "a9572261-1653-47db-a834-43907d31fd77",
     "prev": "49329fa9-f5d1-4feb-8eec-951796be9360",
     "regions": {
      "1ae483de-5249-4449-a108-3372f1b5bdae": {
       "attrs": {
        "height": 0.8,
        "width": 0.8,
        "x": 0.1,
        "y": 0.1
       },
       "content": {
        "cell": "97f36a62-255a-42fa-9bf5-84b8c5639162",
        "part": "whole"
       },
       "id": "1ae483de-5249-4449-a108-3372f1b5bdae"
      }
     }
    },
    "aa124264-d34f-4e91-9d89-87aaa0cc6edb": {
     "id": "aa124264-d34f-4e91-9d89-87aaa0cc6edb",
     "prev": "afe6666f-bab4-4293-bd22-4e020bf6353c",
     "regions": {
      "fedb5452-2799-4b53-af44-249989bf813e": {
       "attrs": {
        "height": 0.8,
        "width": 0.8,
        "x": 0.1,
        "y": 0.1
       },
       "content": {
        "cell": "5606f055-2f59-4ef2-aebb-091e1c420cb5",
        "part": "whole"
       },
       "id": "fedb5452-2799-4b53-af44-249989bf813e"
      }
     }
    },
    "aadfd298-2f06-41a0-b1e1-2833d7afc279": {
     "id": "aadfd298-2f06-41a0-b1e1-2833d7afc279",
     "prev": "cdcbf496-5dc6-4643-a651-054a8caf3ed3",
     "regions": {
      "9fd0a2cb-6bec-4c2f-bec8-840a68797b9f": {
       "attrs": {
        "height": 0.8,
        "width": 0.8,
        "x": 0.1,
        "y": 0.1
       },
       "content": {
        "cell": "d08e078f-cf86-461b-bc52-998ce4427d54",
        "part": "whole"
       },
       "id": "9fd0a2cb-6bec-4c2f-bec8-840a68797b9f"
      }
     }
    },
    "acefea85-3d6d-46c8-94f5-6f0fd09e3262": {
     "id": "acefea85-3d6d-46c8-94f5-6f0fd09e3262",
     "prev": "6100a783-26fe-417a-b602-b8c041748a94",
     "regions": {
      "b18d1ea7-3325-4cf4-be6e-82f6545996cd": {
       "attrs": {
        "height": 0.8,
        "width": 0.8,
        "x": 0.1,
        "y": 0.1
       },
       "content": {
        "cell": "250f9fbe-761b-4bb7-8c21-45eb558064f1",
        "part": "whole"
       },
       "id": "b18d1ea7-3325-4cf4-be6e-82f6545996cd"
      }
     }
    },
    "ad07a34e-94ac-49ae-9383-7fbacfb7749b": {
     "id": "ad07a34e-94ac-49ae-9383-7fbacfb7749b",
     "prev": "324d6aaa-2b59-4fcf-a2cf-65cd06c2649d",
     "regions": {
      "9185a9c0-7532-4ef0-8fa0-baca2f5c8666": {
       "attrs": {
        "height": 0.8,
        "width": 0.8,
        "x": 0.1,
        "y": 0.1
       },
       "content": {
        "cell": "19cfecf2-6622-42ca-bf63-0caa83e81ee9",
        "part": "whole"
       },
       "id": "9185a9c0-7532-4ef0-8fa0-baca2f5c8666"
      }
     }
    },
    "ae6d83da-b697-492c-9b2d-d473e3689e2f": {
     "id": "ae6d83da-b697-492c-9b2d-d473e3689e2f",
     "prev": "45c5a8e1-99a2-4a77-83ed-daf7beb1d90c",
     "regions": {
      "863878cb-e347-43ea-bd46-17973dcb5b4f": {
       "attrs": {
        "height": 0.8,
        "width": 0.8,
        "x": 0.1,
        "y": 0.1
       },
       "content": {
        "cell": "c61a2191-4e0a-4136-8a7c-74ec4813cba6",
        "part": "whole"
       },
       "id": "863878cb-e347-43ea-bd46-17973dcb5b4f"
      }
     }
    },
    "afe6666f-bab4-4293-bd22-4e020bf6353c": {
     "id": "afe6666f-bab4-4293-bd22-4e020bf6353c",
     "prev": "e38447d0-bfa5-460a-b384-d629ec64289f",
     "regions": {
      "709af7e6-3b3c-4b17-8344-a253c97627b9": {
       "attrs": {
        "height": 0.8,
        "width": 0.8,
        "x": 0.1,
        "y": 0.1
       },
       "content": {
        "cell": "a1489d77-bd2b-410d-b304-bda1f7f6474a",
        "part": "whole"
       },
       "id": "709af7e6-3b3c-4b17-8344-a253c97627b9"
      }
     }
    },
    "afe8a0af-73de-4429-a2db-f6db3c6808b9": {
     "id": "afe8a0af-73de-4429-a2db-f6db3c6808b9",
     "prev": "b80ca8d4-ae4c-4112-818a-d31a906798cc",
     "regions": {
      "fc90a45e-e1da-48cd-92d6-3ab03636443a": {
       "attrs": {
        "height": 0.8,
        "width": 0.8,
        "x": 0.1,
        "y": 0.1
       },
       "content": {
        "cell": "33afebe6-bd1e-435f-afbb-83bfd45a5d6f",
        "part": "whole"
       },
       "id": "fc90a45e-e1da-48cd-92d6-3ab03636443a"
      }
     }
    },
    "affa8abf-da21-4064-a07a-ac526972ac14": {
     "id": "affa8abf-da21-4064-a07a-ac526972ac14",
     "prev": "5ee60dda-1446-46bb-8cdc-1b888e51b5a9",
     "regions": {
      "8c655f8b-5de4-400d-9735-86d81cb777d3": {
       "attrs": {
        "height": 0.8,
        "width": 0.8,
        "x": 0.1,
        "y": 0.1
       },
       "content": {
        "cell": "81c3a61e-2df5-42c5-a9f7-0c2b818f3db8",
        "part": "whole"
       },
       "id": "8c655f8b-5de4-400d-9735-86d81cb777d3"
      }
     }
    },
    "b24e67da-dd45-43ba-94ed-9e22754065f1": {
     "id": "b24e67da-dd45-43ba-94ed-9e22754065f1",
     "prev": "1d2e9d35-5e10-4269-b03d-bfe21ce5ec58",
     "regions": {
      "32e0dec8-8031-45a0-b680-6706bbc01794": {
       "attrs": {
        "height": 0.8,
        "width": 0.8,
        "x": 0.1,
        "y": 0.1
       },
       "content": {
        "cell": "a7ac9632-e6cf-4f49-ae21-d4a695240362",
        "part": "whole"
       },
       "id": "32e0dec8-8031-45a0-b680-6706bbc01794"
      }
     }
    },
    "b52aa467-dd31-4633-a4e3-8d71301969de": {
     "id": "b52aa467-dd31-4633-a4e3-8d71301969de",
     "prev": "551e380d-b716-4e44-8d54-4b4b2e2f0206",
     "regions": {
      "f87364e0-2c67-47b5-9594-f4b12a29c046": {
       "attrs": {
        "height": 0.8,
        "width": 0.8,
        "x": 0.1,
        "y": 0.1
       },
       "content": {
        "cell": "e3ddebc7-bda0-4053-a090-2ebe587a2a79",
        "part": "whole"
       },
       "id": "f87364e0-2c67-47b5-9594-f4b12a29c046"
      }
     }
    },
    "b54c1871-ec53-41d3-9afa-a9f1d3370018": {
     "id": "b54c1871-ec53-41d3-9afa-a9f1d3370018",
     "prev": "e12be238-6512-4098-9941-08536c2c0ff9",
     "regions": {
      "1323a970-8f6f-4974-9096-c2114a9d3956": {
       "attrs": {
        "height": 0.8,
        "width": 0.8,
        "x": 0.1,
        "y": 0.1
       },
       "content": {
        "cell": "45b1e422-abbc-4b48-a443-ad3c7a7fb3cb",
        "part": "whole"
       },
       "id": "1323a970-8f6f-4974-9096-c2114a9d3956"
      }
     }
    },
    "b6ecaec0-c119-4991-a2f3-2dda77d7f5b6": {
     "id": "b6ecaec0-c119-4991-a2f3-2dda77d7f5b6",
     "prev": "51f734dd-ddde-42bc-8611-5ebc6f3142c8",
     "regions": {
      "4836116f-7e32-4875-88cd-747ab25ed073": {
       "attrs": {
        "height": 0.8,
        "width": 0.8,
        "x": 0.1,
        "y": 0.1
       },
       "content": {
        "cell": "d4fd5175-598a-4907-a616-d8f322467c36",
        "part": "whole"
       },
       "id": "4836116f-7e32-4875-88cd-747ab25ed073"
      }
     }
    },
    "b7166b6b-74ca-40f6-bcbf-3cf9320ded72": {
     "id": "b7166b6b-74ca-40f6-bcbf-3cf9320ded72",
     "prev": "b54c1871-ec53-41d3-9afa-a9f1d3370018",
     "regions": {
      "93924fdd-7d36-4db5-a927-24919527fe3b": {
       "attrs": {
        "height": 0.8,
        "width": 0.8,
        "x": 0.1,
        "y": 0.1
       },
       "content": {
        "cell": "d3bce0d7-9df1-4d49-a07a-a884b6624baf",
        "part": "whole"
       },
       "id": "93924fdd-7d36-4db5-a927-24919527fe3b"
      }
     }
    },
    "b80ca8d4-ae4c-4112-818a-d31a906798cc": {
     "id": "b80ca8d4-ae4c-4112-818a-d31a906798cc",
     "prev": "2e7ebdb0-e6e0-488e-b7f7-0341c8620baa",
     "regions": {
      "2645f9f0-32da-41e8-8482-13bd95db06d8": {
       "attrs": {
        "height": 0.8,
        "width": 0.8,
        "x": 0.1,
        "y": 0.1
       },
       "content": {
        "cell": "0a055c38-4e4e-46dc-be1b-43e6837c0e5b",
        "part": "whole"
       },
       "id": "2645f9f0-32da-41e8-8482-13bd95db06d8"
      }
     }
    },
    "ba26e06f-9c99-4514-b76d-b375d97715f7": {
     "id": "ba26e06f-9c99-4514-b76d-b375d97715f7",
     "prev": "e14afb92-23ec-40e7-b026-33dbcc9665bf",
     "regions": {
      "04b20db0-ee72-4fdf-bf62-5b865f7e0c16": {
       "attrs": {
        "height": 0.8,
        "width": 0.8,
        "x": 0.1,
        "y": 0.1
       },
       "content": {
        "cell": "925f57a5-7e32-4abd-81f6-a919f7b57715",
        "part": "whole"
       },
       "id": "04b20db0-ee72-4fdf-bf62-5b865f7e0c16"
      }
     }
    },
    "bd9c2615-d4a2-4589-85cc-0ae4905d0bcb": {
     "id": "bd9c2615-d4a2-4589-85cc-0ae4905d0bcb",
     "prev": "a6923e8e-fa39-436f-acec-11e3fc126f58",
     "regions": {
      "74323995-2b27-4ee9-86e0-dc823e3ee03e": {
       "attrs": {
        "height": 0.8,
        "width": 0.8,
        "x": 0.1,
        "y": 0.1
       },
       "content": {
        "cell": "feccbfc2-b40e-47eb-a5ca-b737ebfc7e5f",
        "part": "whole"
       },
       "id": "74323995-2b27-4ee9-86e0-dc823e3ee03e"
      }
     }
    },
    "bf3ba9c6-c22b-4a4c-aebf-47558015b0ec": {
     "id": "bf3ba9c6-c22b-4a4c-aebf-47558015b0ec",
     "prev": "596b1511-5a44-43de-b07e-c76460ad99b6",
     "regions": {
      "e05efdd9-1e46-452a-943d-550fbf462589": {
       "attrs": {
        "height": 0.8,
        "width": 0.8,
        "x": 0.1,
        "y": 0.1
       },
       "content": {
        "cell": "fd56bbbe-355d-4e8c-9b12-744fac2c99bc",
        "part": "whole"
       },
       "id": "e05efdd9-1e46-452a-943d-550fbf462589"
      }
     }
    },
    "c5e1c703-f455-4d3d-a7a1-f5f9d0ba6b6f": {
     "id": "c5e1c703-f455-4d3d-a7a1-f5f9d0ba6b6f",
     "prev": "d2a03e2b-6c02-48e6-a403-2c98d17fafab",
     "regions": {
      "1fee77fd-fcbd-41b0-a55e-bfef2b1d760a": {
       "attrs": {
        "height": 0.8,
        "width": 0.8,
        "x": 0.1,
        "y": 0.1
       },
       "content": {
        "cell": "52363ec1-ec8d-4778-bbfc-d6a936d68392",
        "part": "whole"
       },
       "id": "1fee77fd-fcbd-41b0-a55e-bfef2b1d760a"
      }
     }
    },
    "c67c18fa-fe50-4204-bf24-270be14d27f5": {
     "id": "c67c18fa-fe50-4204-bf24-270be14d27f5",
     "prev": "a0dd02c0-9046-434e-b62f-9438a337538c",
     "regions": {
      "b3ea95cd-3cf9-4250-8467-16abe07f4630": {
       "attrs": {
        "height": 0.8,
        "width": 0.8,
        "x": 0.1,
        "y": 0.1
       },
       "content": {
        "cell": "2bdf33ae-b694-4f97-aff3-1bb660135488",
        "part": "whole"
       },
       "id": "b3ea95cd-3cf9-4250-8467-16abe07f4630"
      }
     }
    },
    "c7fc6f50-cd42-48be-a379-d7380c356150": {
     "id": "c7fc6f50-cd42-48be-a379-d7380c356150",
     "prev": "05a84587-a461-42e0-b429-4b9c03b05b79",
     "regions": {
      "67e22891-aafd-449e-8737-9bc55ea70c09": {
       "attrs": {
        "height": 0.8,
        "width": 0.8,
        "x": 0.1,
        "y": 0.1
       },
       "content": {
        "cell": "7f482733-6cdd-431a-ab16-6b1cdcb78c9a",
        "part": "whole"
       },
       "id": "67e22891-aafd-449e-8737-9bc55ea70c09"
      }
     }
    },
    "cb1a0e8f-0e8f-47c3-8446-b65367cff54f": {
     "id": "cb1a0e8f-0e8f-47c3-8446-b65367cff54f",
     "prev": "692f69ce-10c7-4aab-917c-bf88861572f0",
     "regions": {
      "4b516000-01e7-4fab-883b-b39b5af9ea46": {
       "attrs": {
        "height": 0.8,
        "width": 0.8,
        "x": 0.1,
        "y": 0.1
       },
       "content": {
        "cell": "dd45a54f-6f28-402b-a61f-1f86bf6b12b7",
        "part": "whole"
       },
       "id": "4b516000-01e7-4fab-883b-b39b5af9ea46"
      }
     }
    },
    "cdcbf496-5dc6-4643-a651-054a8caf3ed3": {
     "id": "cdcbf496-5dc6-4643-a651-054a8caf3ed3",
     "prev": "382075b0-2030-43b6-a521-2f515f799577",
     "regions": {
      "af0aba57-1f36-45a4-a796-12df81cde6e4": {
       "attrs": {
        "height": 0.8,
        "width": 0.8,
        "x": 0.1,
        "y": 0.1
       },
       "content": {
        "cell": "8ed942bd-33e6-442b-a9c6-2467ed3fb54f",
        "part": "whole"
       },
       "id": "af0aba57-1f36-45a4-a796-12df81cde6e4"
      }
     }
    },
    "cf665ebb-d13d-4c42-9f92-3c49d5b2052b": {
     "id": "cf665ebb-d13d-4c42-9f92-3c49d5b2052b",
     "prev": "253d3680-a217-4361-97b0-972a6945b3ae",
     "regions": {
      "5766eb1d-7212-4175-a6a0-0480efd2e78c": {
       "attrs": {
        "height": 0.8,
        "width": 0.8,
        "x": 0.1,
        "y": 0.1
       },
       "content": {
        "cell": "b26b9f80-d59a-4422-9562-f92a77839fbf",
        "part": "whole"
       },
       "id": "5766eb1d-7212-4175-a6a0-0480efd2e78c"
      }
     }
    },
    "d0e6c3c5-111d-48fa-a035-5aa0e85c2873": {
     "id": "d0e6c3c5-111d-48fa-a035-5aa0e85c2873",
     "prev": "aadfd298-2f06-41a0-b1e1-2833d7afc279",
     "regions": {
      "bdee7786-365a-4afb-a8ef-fa2803cecae1": {
       "attrs": {
        "height": 0.8,
        "width": 0.8,
        "x": 0.1,
        "y": 0.1
       },
       "content": {
        "cell": "ade30d65-7e36-4f5b-a067-ec84a2d4f55c",
        "part": "whole"
       },
       "id": "bdee7786-365a-4afb-a8ef-fa2803cecae1"
      }
     }
    },
    "d151c0eb-8fbf-4193-9199-eaf2ae9b8e14": {
     "id": "d151c0eb-8fbf-4193-9199-eaf2ae9b8e14",
     "prev": "c67c18fa-fe50-4204-bf24-270be14d27f5",
     "regions": {
      "86611bab-8f8c-44b7-9639-6e8f49e10e34": {
       "attrs": {
        "height": 0.8,
        "width": 0.8,
        "x": 0.1,
        "y": 0.1
       },
       "content": {
        "cell": "baf2bdb8-72d3-4be9-9eff-b04a90499fed",
        "part": "whole"
       },
       "id": "86611bab-8f8c-44b7-9639-6e8f49e10e34"
      }
     }
    },
    "d1f39927-0fa4-459f-b66d-894bef6a6a04": {
     "id": "d1f39927-0fa4-459f-b66d-894bef6a6a04",
     "prev": "7a2dd88d-e4c7-4359-a601-00bd15c4730a",
     "regions": {
      "803842a8-05e8-4b1e-9723-536008af2aca": {
       "attrs": {
        "height": 0.8,
        "width": 0.8,
        "x": 0.1,
        "y": 0.1
       },
       "content": {
        "cell": "bc99149c-b9fc-44df-9bac-109ced81161e",
        "part": "whole"
       },
       "id": "803842a8-05e8-4b1e-9723-536008af2aca"
      }
     }
    },
    "d2a03e2b-6c02-48e6-a403-2c98d17fafab": {
     "id": "d2a03e2b-6c02-48e6-a403-2c98d17fafab",
     "prev": "e9111d69-063e-415a-a42b-ff73bfeb30bd",
     "regions": {
      "f7932ae8-f554-4ccd-a1eb-7f1282fc4477": {
       "attrs": {
        "height": 0.8,
        "width": 0.8,
        "x": 0.1,
        "y": 0.1
       },
       "content": {
        "cell": "3a3e99cf-e4fc-4356-92aa-d798c7661917",
        "part": "whole"
       },
       "id": "f7932ae8-f554-4ccd-a1eb-7f1282fc4477"
      }
     }
    },
    "d2b3f176-290b-4e36-844f-08992698b1d4": {
     "id": "d2b3f176-290b-4e36-844f-08992698b1d4",
     "prev": "ae6d83da-b697-492c-9b2d-d473e3689e2f",
     "regions": {
      "e1dda0f5-dd1c-465d-ba0c-e9874e6d8bbb": {
       "attrs": {
        "height": 0.8,
        "width": 0.8,
        "x": 0.1,
        "y": 0.1
       },
       "content": {
        "cell": "84e7933c-86f0-4c77-a543-607eedf6f2f7",
        "part": "whole"
       },
       "id": "e1dda0f5-dd1c-465d-ba0c-e9874e6d8bbb"
      }
     }
    },
    "d378cce4-1004-4ab0-afeb-5317619e767b": {
     "id": "d378cce4-1004-4ab0-afeb-5317619e767b",
     "prev": "1ba2bc64-e820-4211-9866-2f2b967ca353",
     "regions": {
      "0887b2f9-f0cd-4d8f-a5e3-baf21374f80c": {
       "attrs": {
        "height": 0.8,
        "width": 0.8,
        "x": 0.1,
        "y": 0.1
       },
       "content": {
        "cell": "6e671ab3-8588-47b0-bec9-4071d15a4b7f",
        "part": "whole"
       },
       "id": "0887b2f9-f0cd-4d8f-a5e3-baf21374f80c"
      }
     }
    },
    "d3f84059-9ff6-413e-8440-0704fa8291b6": {
     "id": "d3f84059-9ff6-413e-8440-0704fa8291b6",
     "prev": "4d842884-4dfe-4745-bf59-292a06e16978",
     "regions": {
      "e4b7429e-74ca-450c-b958-95ff493d0fb2": {
       "attrs": {
        "height": 0.8,
        "width": 0.8,
        "x": 0.1,
        "y": 0.1
       },
       "content": {
        "cell": "f7864727-dfaf-499f-a0f8-1bde80fe7b0b",
        "part": "whole"
       },
       "id": "e4b7429e-74ca-450c-b958-95ff493d0fb2"
      }
     }
    },
    "d5027bca-d599-4722-8126-5366b1e2c3f8": {
     "id": "d5027bca-d599-4722-8126-5366b1e2c3f8",
     "prev": "e1461b03-0554-412d-9980-f78a9bb2f50a",
     "regions": {
      "13ba103a-fb2b-4897-87ad-7137f3ba3171": {
       "attrs": {
        "height": 0.8,
        "width": 0.8,
        "x": 0.1,
        "y": 0.1
       },
       "content": {
        "cell": "d7c58302-201a-4200-9bb9-8d5a9e060fe4",
        "part": "whole"
       },
       "id": "13ba103a-fb2b-4897-87ad-7137f3ba3171"
      }
     }
    },
    "d71306e2-4791-4bcf-9d50-415f8ed75a4e": {
     "id": "d71306e2-4791-4bcf-9d50-415f8ed75a4e",
     "prev": "f77f72e2-c81a-437e-b856-f3d977b8801f",
     "regions": {
      "92511ccb-d110-4f64-9701-8647f75edceb": {
       "attrs": {
        "height": 0.8,
        "width": 0.8,
        "x": 0.1,
        "y": 0.1
       },
       "content": {
        "cell": "9214d1fa-0a48-4345-89d0-35cbb9895be2",
        "part": "whole"
       },
       "id": "92511ccb-d110-4f64-9701-8647f75edceb"
      }
     }
    },
    "db86c73f-03d4-4811-912a-89a06e9417e7": {
     "id": "db86c73f-03d4-4811-912a-89a06e9417e7",
     "prev": "20295c9a-9188-467c-bfef-211073bd89c4",
     "regions": {
      "97622fea-6eca-4511-839d-18398293324e": {
       "attrs": {
        "height": 0.8,
        "width": 0.8,
        "x": 0.1,
        "y": 0.1
       },
       "content": {
        "cell": "03c9adeb-8a25-4592-beac-2a971272169c",
        "part": "whole"
       },
       "id": "97622fea-6eca-4511-839d-18398293324e"
      }
     }
    },
    "db95f0b0-d3f8-4b08-929c-50f93d5bab2a": {
     "id": "db95f0b0-d3f8-4b08-929c-50f93d5bab2a",
     "prev": "42337b29-e9c0-4c18-bcf2-2a34b17f47a7",
     "regions": {
      "6b17301f-fe52-4339-9664-e22f4b7139a4": {
       "attrs": {
        "height": 0.8,
        "width": 0.8,
        "x": 0.1,
        "y": 0.1
       },
       "content": {
        "cell": "a106eda1-8903-4caf-b378-b45cd444c8e3",
        "part": "whole"
       },
       "id": "6b17301f-fe52-4339-9664-e22f4b7139a4"
      }
     }
    },
    "ddaf5254-5eac-42c1-b722-9efeac8d35f0": {
     "id": "ddaf5254-5eac-42c1-b722-9efeac8d35f0",
     "prev": "fe9172c0-db98-44c9-ba31-8ffe2d6c61a4",
     "regions": {
      "af93726f-2e48-4f8c-9ef9-14d59938d842": {
       "attrs": {
        "height": 0.8,
        "width": 0.8,
        "x": 0.1,
        "y": 0.1
       },
       "content": {
        "cell": "ec2c3e1a-d7d6-4a6a-9e16-fbf10c18baa3",
        "part": "whole"
       },
       "id": "af93726f-2e48-4f8c-9ef9-14d59938d842"
      }
     }
    },
    "dde37dfc-64e3-43ba-8cf5-088f776c1755": {
     "id": "dde37dfc-64e3-43ba-8cf5-088f776c1755",
     "prev": "2afe4f11-b26e-4080-827a-5efa3312a718",
     "regions": {
      "4d0e43b8-1032-48b3-9d38-a339f99a6eb3": {
       "attrs": {
        "height": 0.8,
        "width": 0.8,
        "x": 0.1,
        "y": 0.1
       },
       "content": {
        "cell": "809c7f47-afae-4936-9b16-d7ac5aa5a5cd",
        "part": "whole"
       },
       "id": "4d0e43b8-1032-48b3-9d38-a339f99a6eb3"
      }
     }
    },
    "e12be238-6512-4098-9941-08536c2c0ff9": {
     "id": "e12be238-6512-4098-9941-08536c2c0ff9",
     "prev": "08ba0649-bb5f-400d-981f-052722a8bdfa",
     "regions": {
      "ec8fbf75-fcda-4050-90f3-483ba62c3ce0": {
       "attrs": {
        "height": 0.8,
        "width": 0.8,
        "x": 0.1,
        "y": 0.1
       },
       "content": {
        "cell": "f7493070-1a84-42fc-8c7b-79e82be50209",
        "part": "whole"
       },
       "id": "ec8fbf75-fcda-4050-90f3-483ba62c3ce0"
      }
     }
    },
    "e1461b03-0554-412d-9980-f78a9bb2f50a": {
     "id": "e1461b03-0554-412d-9980-f78a9bb2f50a",
     "prev": "bf3ba9c6-c22b-4a4c-aebf-47558015b0ec",
     "regions": {
      "ab9fa970-2781-4237-a78a-77c01b130169": {
       "attrs": {
        "height": 0.8,
        "width": 0.8,
        "x": 0.1,
        "y": 0.1
       },
       "content": {
        "cell": "48871931-4587-4638-b246-ec2691c32509",
        "part": "whole"
       },
       "id": "ab9fa970-2781-4237-a78a-77c01b130169"
      }
     }
    },
    "e14afb92-23ec-40e7-b026-33dbcc9665bf": {
     "id": "e14afb92-23ec-40e7-b026-33dbcc9665bf",
     "prev": "db95f0b0-d3f8-4b08-929c-50f93d5bab2a",
     "regions": {
      "4045bdb5-eaa7-426e-8cf6-fd1aaef609fa": {
       "attrs": {
        "height": 0.8,
        "width": 0.8,
        "x": 0.1,
        "y": 0.1
       },
       "content": {
        "cell": "d3e3f4d8-07d3-4491-b8de-3a77f4912d57",
        "part": "whole"
       },
       "id": "4045bdb5-eaa7-426e-8cf6-fd1aaef609fa"
      }
     }
    },
    "e38447d0-bfa5-460a-b384-d629ec64289f": {
     "id": "e38447d0-bfa5-460a-b384-d629ec64289f",
     "prev": "1032966e-b223-461c-86e4-8c28b7264de8",
     "regions": {
      "e76c3d88-9d30-4b75-8c21-a31e59b06cab": {
       "attrs": {
        "height": 0.8,
        "width": 0.8,
        "x": 0.1,
        "y": 0.1
       },
       "content": {
        "cell": "7ffbdd16-b4af-467b-abea-d97dd70975ea",
        "part": "whole"
       },
       "id": "e76c3d88-9d30-4b75-8c21-a31e59b06cab"
      }
     }
    },
    "e9111d69-063e-415a-a42b-ff73bfeb30bd": {
     "id": "e9111d69-063e-415a-a42b-ff73bfeb30bd",
     "prev": "b52aa467-dd31-4633-a4e3-8d71301969de",
     "regions": {
      "2de6fba1-8953-4812-8594-003d2f649ab8": {
       "attrs": {
        "height": 0.8,
        "width": 0.8,
        "x": 0.1,
        "y": 0.1
       },
       "content": {
        "cell": "d9baad94-6d31-4ae5-af93-ce8fd253cb8f",
        "part": "whole"
       },
       "id": "2de6fba1-8953-4812-8594-003d2f649ab8"
      }
     }
    },
    "ec0db5e3-b285-4324-bfe1-d7b9ef7607ce": {
     "id": "ec0db5e3-b285-4324-bfe1-d7b9ef7607ce",
     "prev": "99050bce-efa6-4846-9a1e-760df318df25",
     "regions": {
      "13f57835-82f7-4481-9d53-9cb28f8f5044": {
       "attrs": {
        "height": 0.8,
        "width": 0.8,
        "x": 0.1,
        "y": 0.1
       },
       "content": {
        "cell": "17621e92-546d-4ae3-ba56-0515f94a65f1",
        "part": "whole"
       },
       "id": "13f57835-82f7-4481-9d53-9cb28f8f5044"
      }
     }
    },
    "ee31c68e-7947-4e54-a28b-6a9a42d723a6": {
     "id": "ee31c68e-7947-4e54-a28b-6a9a42d723a6",
     "prev": "a9572261-1653-47db-a834-43907d31fd77",
     "regions": {
      "42c53447-fca6-4476-9d03-c5a962d5fb61": {
       "attrs": {
        "height": 0.8,
        "width": 0.8,
        "x": 0.1,
        "y": 0.1
       },
       "content": {
        "cell": "438d075c-719a-41d8-ad2c-f7da40d21cac",
        "part": "whole"
       },
       "id": "42c53447-fca6-4476-9d03-c5a962d5fb61"
      }
     }
    },
    "ee360be9-f143-4a93-b417-a32956995ec3": {
     "id": "ee360be9-f143-4a93-b417-a32956995ec3",
     "prev": "497365d1-4d41-419a-b261-229164f95d37",
     "regions": {
      "1c25b9fe-a012-4795-bf01-cde07e8f2f07": {
       "attrs": {
        "height": 0.8,
        "width": 0.8,
        "x": 0.1,
        "y": 0.1
       },
       "content": {
        "cell": "d1e0cd3e-bbe6-459b-8906-ff64c5706e32",
        "part": "whole"
       },
       "id": "1c25b9fe-a012-4795-bf01-cde07e8f2f07"
      }
     }
    },
    "f08c5e65-f72e-42a7-b5ec-d8addaf604c7": {
     "id": "f08c5e65-f72e-42a7-b5ec-d8addaf604c7",
     "prev": "0f9b7823-3080-4ef5-9a49-b331a530752e",
     "regions": {
      "d461cd4f-2436-4a81-96ea-2edb201cc2ff": {
       "attrs": {
        "height": 0.8,
        "width": 0.8,
        "x": 0.1,
        "y": 0.1
       },
       "content": {
        "cell": "97f9a4d7-dde8-4898-b0db-5d2fbcff2d7f",
        "part": "whole"
       },
       "id": "d461cd4f-2436-4a81-96ea-2edb201cc2ff"
      }
     }
    },
    "f45a7ac2-a7bb-4582-8efa-4b4650e4e9cc": {
     "id": "f45a7ac2-a7bb-4582-8efa-4b4650e4e9cc",
     "prev": "00d72b7f-d241-4bf9-a934-a9660feaa6e0",
     "regions": {
      "1e6c04ff-bf0b-4710-806a-b6f5b2f76b1a": {
       "attrs": {
        "height": 0.8,
        "width": 0.8,
        "x": 0.1,
        "y": 0.1
       },
       "content": {
        "cell": "396fc4f5-4986-4fa5-bd54-a5646a5acd9a",
        "part": "whole"
       },
       "id": "1e6c04ff-bf0b-4710-806a-b6f5b2f76b1a"
      }
     }
    },
    "f4f883a0-067d-4866-9ae9-4f34b6a649aa": {
     "id": "f4f883a0-067d-4866-9ae9-4f34b6a649aa",
     "prev": "afe8a0af-73de-4429-a2db-f6db3c6808b9",
     "regions": {
      "059daf8c-820b-4dcc-9761-bffa1293ebc5": {
       "attrs": {
        "height": 0.8,
        "width": 0.8,
        "x": 0.1,
        "y": 0.1
       },
       "content": {
        "cell": "b16cad66-8a1b-49dc-b5ba-e538721b9cb2",
        "part": "whole"
       },
       "id": "059daf8c-820b-4dcc-9761-bffa1293ebc5"
      }
     }
    },
    "f6956222-1865-4719-b333-74472342d677": {
     "id": "f6956222-1865-4719-b333-74472342d677",
     "prev": "3057eac3-0669-420c-b95e-f884c9bfa85c",
     "regions": {
      "20c62237-3bcf-40c6-ac2f-3f604c6e59a0": {
       "attrs": {
        "height": 0.8,
        "width": 0.8,
        "x": 0.1,
        "y": 0.1
       },
       "content": {
        "cell": "03bc5871-16c7-4d2f-8d7b-4e4735a5e4ae",
        "part": "whole"
       },
       "id": "20c62237-3bcf-40c6-ac2f-3f604c6e59a0"
      }
     }
    },
    "f77f72e2-c81a-437e-b856-f3d977b8801f": {
     "id": "f77f72e2-c81a-437e-b856-f3d977b8801f",
     "prev": "d0e6c3c5-111d-48fa-a035-5aa0e85c2873",
     "regions": {
      "5750f1d7-72a6-46ce-985b-2ea0a4aa0ede": {
       "attrs": {
        "height": 0.8,
        "width": 0.8,
        "x": 0.1,
        "y": 0.1
       },
       "content": {
        "cell": "c97cd1e4-2c54-4ea6-b20c-2f62e1af66e2",
        "part": "whole"
       },
       "id": "5750f1d7-72a6-46ce-985b-2ea0a4aa0ede"
      }
     }
    },
    "fe757450-b11c-453d-872a-5bf0dd9d2eaf": {
     "id": "fe757450-b11c-453d-872a-5bf0dd9d2eaf",
     "prev": "4b8e8bfa-eefe-4efc-940e-d7bf16233760",
     "regions": {
      "77b74020-095b-40c3-bea0-38565f10ae2e": {
       "attrs": {
        "height": 0.8,
        "width": 0.8,
        "x": 0.1,
        "y": 0.1
       },
       "content": {
        "cell": "d161dac6-4367-4a56-b9d1-16334c5d9afc",
        "part": "whole"
       },
       "id": "77b74020-095b-40c3-bea0-38565f10ae2e"
      }
     }
    },
    "fe9172c0-db98-44c9-ba31-8ffe2d6c61a4": {
     "id": "fe9172c0-db98-44c9-ba31-8ffe2d6c61a4",
     "prev": "06885369-5ce3-4f10-9d19-094c40c66e71",
     "regions": {
      "801302b5-744d-4d18-b81b-c2f31226dfc4": {
       "attrs": {
        "height": 0.8,
        "width": 0.8,
        "x": 0.1,
        "y": 0.1
       },
       "content": {
        "cell": "f2524458-a341-4485-880f-0400d2626711",
        "part": "whole"
       },
       "id": "801302b5-744d-4d18-b81b-c2f31226dfc4"
      }
     }
    }
   },
   "themes": {}
  }
 },
 "nbformat": 4,
 "nbformat_minor": 0
}
